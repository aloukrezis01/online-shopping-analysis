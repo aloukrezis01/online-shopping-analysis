{
 "cells": [
  {
   "cell_type": "markdown",
   "metadata": {},
   "source": [
    "# BA545: Competition 2- Online Shoppers Purchasing Intentions\n",
    "# Data Audit Report \n",
    "#### By: Faris Alenzy, Andre Loukrezis & Elise Vincent\n",
    "##### Date : 3/31/2020\n",
    "This report covers the steps our group has taken so far and the steps we will complete before the final due date.\n",
    "\n",
    "#### 1. Business Understanding - Framing the Analytical Questions\n",
    "Research Questions:\n",
    "- Which features best determines a web user to make a purchase?\n",
    "\n",
    "\n",
    "#### 2. Data understanding - EDA\n",
    "- [Descriptive Stats, Correlation](https://github.com/Farisalenezy/BA-545-Project-2/blob/master/Exploratory_Stats.ipynb)\n",
    "- [Preliminary graphs used for visualization](https://github.com/Farisalenezy/BA-545-Project-2/blob/master/Visualization.ipynb)\n",
    "- [Data Dictonary](https://github.com/Farisalenezy/BA-545-Project-2/blob/master/DataDictionary.ipynb)\n",
    "\n",
    "#### 3. Data Preparation\n",
    "Includes pre-processing steps for handling outliers, normalizing and standardizing the data. Also has steps for Binning and Feature Engineering.\n",
    "- Pipeline 1\n",
    "    - Descriptive Stats for Data Understanding\n",
    "    - Transformed Data\n",
    "        - Encoding Categorical Data to Binary\n",
    "    - Found Correlations between features\n",
    "    - Checking & Handling of Skewness\n",
    "    - Checking & Handling of Outliers \n",
    "    - Normalization Using MinMax\n",
    "    - Data Prep for Modeling \n",
    "        - (Splitting data, train/test)\n",
    "        - Over/under sampling\n",
    "        - Handling imbalance in class 1 using SMOTE from the imbLearn package\n",
    "    - [Running initial models](https://github.com/Farisalenezy/BA-545-Project-2/blob/master/Initial%20Notebook.ipynb)\n",
    "        - Decision Tree,  Logistic Regression, Naive Bayes\n",
    "\n",
    "#### 4. Findings\n",
    "- Which month(s) and region are most profitable?\n",
    "    - The majority of revenue occurs in May (27.28%), followed closely by Nov, March & Dec\n",
    "    - Region 1 is by far the most profitable, however, this may also be due to the significantly higher visitor occurrence (38.76% of all users)\n",
    "- Which browser is most frequently used?\n",
    "    - With an overwhelming majority (64.56%), users access the cite using Browser 2\n",
    "- Visitor type and revenue\n",
    "    - Most of the users on this cite were returning customers (85.57%), and were the most likely to make a purchase than New or Other Visitors\n",
    "- Handling outliers in the value page column, reduced our model performance.\n",
    "\n",
    "\n",
    "#### 5. Next Steps\n",
    "- Determine promotional initiatives for target marketing based on browser used, months used, etc. in order to have the most effective initiative to gain more users  \n",
    "- Re-evaluation of the data\n",
    "- Determine if we should or should not keep outliers in the value page column\n",
    "- Further binning for the categorical features \n",
    "- Further Feature Selection\n",
    "- Working on base model notebook; logistic regression, decision tree, naive bayes\n",
    "- Advanced Modeling: Random Forest, Gradient Boosting ,SVM\n",
    "- Using undersampling in our models and compare it to oversampling"
   ]
  },
  {
   "cell_type": "code",
   "execution_count": null,
   "metadata": {},
   "outputs": [],
   "source": []
  }
 ],
 "metadata": {
  "kernelspec": {
   "display_name": "Python 3",
   "language": "python",
   "name": "python3"
  },
  "language_info": {
   "codemirror_mode": {
    "name": "ipython",
    "version": 3
   },
   "file_extension": ".py",
   "mimetype": "text/x-python",
   "name": "python",
   "nbconvert_exporter": "python",
   "pygments_lexer": "ipython3",
   "version": "3.6.7"
  }
 },
 "nbformat": 4,
 "nbformat_minor": 4
}
