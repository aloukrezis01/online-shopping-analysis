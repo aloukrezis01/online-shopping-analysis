{
 "cells": [
  {
   "cell_type": "markdown",
   "metadata": {},
   "source": [
    "# VotingClassifier"
   ]
  },
  {
   "cell_type": "markdown",
   "metadata": {},
   "source": [
    "**After running the GradientBoosting, Random Forest, SVC models and then getting the<br> features importance for each of the models,\n",
    "we then run the Voting Classifier model only using<br> only the common features between at least two of the three models**\n",
    "~~~javascript\n",
    "\n",
    "\n",
    "\n",
    "best_x_between_models=['PageValues_skew_s', 'TrafficType_dummies_8',\n",
    "        'Region_dummies_2','season_dummies_Spring',\n",
    "        'OperatingSystems_dummies_2', 'Region_dummies_1',\n",
    "       'Weekend_binary','TrafficType_dummies_2',\n",
    "        'average_informational_duration_skew_s','average_ProductRelated_duration_skew_s', \n",
    "        'average_administrative_duration_skew_s','average_BounceRates/ExitRates_skew_s',\n",
    "        'season_dummies_Fall']\n",
    "\n",
    "\n",
    "\n",
    "\n",
    "                                     \n",
    "GradientBoosting_best_features = ['Browser_dummies_2', 'TrafficType_dummies_8', \n",
    "                    'Region_dummies_2', 'season_dummies_Spring',\n",
    "                    'OperatingSystems_dummies_2', 'Region_dummies_3',\n",
    "                    'Weekend_binary', 'Region_dummies_1',\n",
    "       'TrafficType_dummies_2', 'average_informational_duration_skew_s',\n",
    "                    'average_ProductRelated_duration_skew_s', \n",
    "                    'average_administrative_duration_skew_s',\n",
    "                    'average_BounceRates/ExitRates_skew_s',\n",
    "       'season_dummies_Fall', 'PageValues_skew_s']                      \n",
    "\n",
    "RandomForest_best_features = ['Region_dummies_1', 'TrafficType_dummies_11',\n",
    "       'season_dummies_winter', 'Weekend_binary',\n",
    "       'VisitorType_dummies_New_Visitor','VisitorType_dummies_Returning_Visitor',\n",
    "       'OperatingSystems_dummies_2', 'TrafficType_dummies_3', \n",
    "       'average_informational_duration_skew_s',\n",
    "       'OperatingSystems_dummies_3', 'season_dummies_Spring',\n",
    "       'TrafficType_dummies_2', 'season_dummies_Fall',\n",
    "       'average_ProductRelated_duration_skew_s', \n",
    "        'average_administrative_duration_skew_s',\n",
    "       'average_BounceRates/ExitRates_skew_s', 'PageValues_skew_s']\n",
    "\n",
    "\n",
    "\n",
    "SVC_best_features = ['Region_dummies_2', 'Browser_dummies_1',\n",
    "                     'Browser_dummies_8', 'Browser_dummies_12',\n",
    "                     'season_dummies_winter', 'Browser_dummies_13', \n",
    "                     'season_dummies_summer', 'season_dummies_Fall',\n",
    "       'OperatingSystems_dummies_7', 'TrafficType_dummies_13', \n",
    "                     'TrafficType_dummies_9', 'TrafficType_dummies_14',\n",
    "                     'TrafficType_dummies_7', 'TrafficType_dummies_6',\n",
    "                     'TrafficType_dummies_20',\n",
    "       'TrafficType_dummies_1', 'TrafficType_dummies_4',\n",
    "                     'TrafficType_dummies_3', 'TrafficType_dummies_5', \n",
    "                     'TrafficType_dummies_10', 'TrafficType_dummies_11',\n",
    "                     'TrafficType_dummies_2',\n",
    "       'TrafficType_dummies_8', 'TrafficType_dummies_16', 'PageValues_skew_s']\n",
    "\n",
    "\n",
    "~~~"
   ]
  },
  {
   "cell_type": "code",
   "execution_count": 1,
   "metadata": {},
   "outputs": [],
   "source": [
    "from sklearn.model_selection import cross_val_score\n",
    "from sklearn.linear_model import LogisticRegression\n",
    "from sklearn.naive_bayes import GaussianNB\n",
    "from sklearn.ensemble import RandomForestClassifier\n",
    "from sklearn.ensemble import VotingClassifier\n",
    "import pandas as pd\n",
    "import numpy as np\n",
    "\n",
    "from sklearn import model_selection\n",
    "from sklearn.model_selection import cross_val_score\n",
    "\n",
    "from sklearn import metrics\n",
    "from sklearn.metrics import confusion_matrix\n",
    "from sklearn.metrics import classification_report\n",
    "from sklearn.metrics import roc_auc_score\n",
    "from sklearn.metrics import accuracy_score\n",
    "from sklearn.metrics import precision_recall_fscore_support\n",
    "from sklearn.ensemble import GradientBoostingClassifier\n",
    "from sklearn.naive_bayes import BernoulliNB\n",
    "from sklearn.svm import SVC\n",
    "from sklearn.model_selection import cross_val_score, RepeatedKFold\n",
    "from sklearn.metrics import f1_score\n",
    "\n",
    "\n",
    "\n",
    "\n",
    "\n",
    "\n",
    "from sklearn.linear_model import LogisticRegression\n",
    "import matplotlib.pyplot as plt\n",
    "%matplotlib inline\n",
    "\n",
    "import seaborn as sns\n",
    "\n",
    "plt.style.use('seaborn')\n",
    "pd.set_option('display.width', 200)\n",
    "pd.set_option('display.max_colwidth', 20)\n",
    "pd.set_option('display.max_rows', 100)\n",
    "from IPython.display import display, Markdown, Latex\n",
    "from sklearn.ensemble import ExtraTreesClassifier\n"
   ]
  },
  {
   "cell_type": "code",
   "execution_count": 5,
   "metadata": {},
   "outputs": [
    {
     "name": "stdout",
     "output_type": "stream",
     "text": [
      "[('gb', GradientBoostingClassifier(ccp_alpha=0.0, criterion='friedman_mse', init=None,\n",
      "                           learning_rate=0.05, loss='deviance', max_depth=4,\n",
      "                           max_features=None, max_leaf_nodes=None,\n",
      "                           min_impurity_decrease=0.0, min_impurity_split=None,\n",
      "                           min_samples_leaf=1, min_samples_split=5,\n",
      "                           min_weight_fraction_leaf=0.0, n_estimators=1250,\n",
      "                           n_iter_no_change=None, presort='deprecated',\n",
      "                           random_state=123, subsample=1, tol=0.0001,\n",
      "                           validation_fraction=0.1, verbose=0,\n",
      "                           warm_start=False)), ('rf', BalancedRandomForestClassifier(bootstrap=True, ccp_alpha=0.0, class_weight=None,\n",
      "                               criterion='gini', max_depth=7,\n",
      "                               max_features='auto', max_leaf_nodes=None,\n",
      "                               max_samples=None, min_impurity_decrease=0.0,\n",
      "                               min_samples_leaf=1, min_samples_split=6,\n",
      "                               min_weight_fraction_leaf=0.0, n_estimators=1750,\n",
      "                               n_jobs=None, oob_score=False, random_state=123,\n",
      "                               replacement=False, sampling_strategy='auto',\n",
      "                               verbose=0, warm_start=False)), ('SVC', SVC(C=1, break_ties=False, cache_size=200, class_weight=None, coef0=0.0,\n",
      "    decision_function_shape='ovr', degree=3, gamma=1, kernel='linear',\n",
      "    max_iter=-1, probability=True, random_state=123, shrinking=True, tol=0.001,\n",
      "    verbose=False))]\n"
     ]
    }
   ],
   "source": [
    "from imblearn.ensemble import BalancedBaggingClassifier\n",
    "from imblearn.ensemble import BalancedRandomForestClassifier\n",
    "\n",
    "from sklearn.model_selection import train_test_split\n",
    "from sklearn.ensemble import BaggingClassifier\n",
    "from sklearn.ensemble import RandomForestClassifier\n",
    "from sklearn.ensemble import AdaBoostClassifier\n",
    "from sklearn.tree import DecisionTreeClassifier\n",
    "from sklearn.metrics import confusion_matrix\n",
    "from sklearn.metrics import balanced_accuracy_score\n",
    "\n",
    "from imblearn.datasets import fetch_datasets\n",
    "from imblearn.ensemble import BalancedBaggingClassifier\n",
    "from imblearn.ensemble import BalancedRandomForestClassifier\n",
    "from imblearn.ensemble import EasyEnsembleClassifier\n",
    "from imblearn.ensemble import RUSBoostClassifier\n",
    "\n",
    "from imblearn.metrics import geometric_mean_score\n",
    "from imblearn.under_sampling import NearMiss \n",
    "\n",
    "\n",
    "\n",
    "\n",
    "#reading the data\n",
    "from scaled_data import *\n",
    "X,y = clean_data()\n",
    "\n",
    "best_x=['PageValues_skew_s', 'TrafficType_dummies_8',\n",
    "        'Region_dummies_2','season_dummies_Spring',\n",
    "        'OperatingSystems_dummies_2', 'Region_dummies_1',\n",
    "       'Weekend_binary','TrafficType_dummies_2',\n",
    "        'average_informational_duration_skew_s','average_ProductRelated_duration_skew_s', \n",
    "        'average_administrative_duration_skew_s','average_BounceRates/ExitRates_skew_s',\n",
    "        'season_dummies_Fall']\n",
    "best_x1 = [  'Region_dummies_2', 'Browser_dummies_5', 'Region_dummies_3', 'Browser_dummies_10', 'Browser_dummies_3', 'TrafficType_dummies_8',\n",
    "           'VisitorType_dummies_New_Visitor', 'OperatingSystems_dummies_6', 'Weekend_binary', 'Region_dummies_6',\n",
    "           'TrafficType_dummies_6', 'season_dummies_Fall', 'season_dummies_Spring', 'TrafficType_dummies_12','PageValues_skew_s',\n",
    "           'average_ProductRelated_duration_skew_s', 'TrafficType_dummies_7', 'average_BounceRates/ExitRates_skew_s']\n",
    "X=X[best_x1]\n",
    "VC_Xdata = X.copy() #making our X columns\n",
    "\n",
    "\n",
    "#getting the values of our x features:\n",
    "#Xrf_model = rf_model_Xdata[best_features_spsa].values\n",
    "#Xrf_model= rf_model_Xdata[cols_2].values\n",
    "XVC_model = VC_Xdata.values\n",
    "\n",
    "#getting the values of our y:\n",
    "y_VC_model = y.values.ravel() # target\n",
    "\n",
    "\n",
    "from sklearn.model_selection import train_test_split\n",
    "\n",
    "#Splitting data test&train \n",
    "X_train, X_test, y_train, y_test= train_test_split(XVC_model, y_VC_model , test_size=0.25, random_state=8)\n",
    "\n",
    "from imblearn.over_sampling import SMOTE\n",
    "\n",
    "sm =SMOTE(k_neighbors=4,random_state=123)\n",
    "X_train_bal, y_train_bal = sm.fit_sample(X_train, y_train)\n",
    "\n",
    "\n",
    "\n",
    "\n",
    "\n",
    "\n",
    "\n",
    "\n",
    "clf1 = GradientBoostingClassifier(learning_rate=0.05,n_estimators=1250,\n",
    "                                  max_depth=4, min_samples_split=5,\n",
    "                                  min_samples_leaf=1, subsample=1,\n",
    "                                  random_state=123)\n",
    "                                     \n",
    "GB_best_features = ['Browser_dummies_2', 'TrafficType_dummies_8', \n",
    "                    'Region_dummies_2', 'season_dummies_Spring',\n",
    "                    'OperatingSystems_dummies_2', 'Region_dummies_3',\n",
    "                    'Weekend_binary', 'Region_dummies_1',\n",
    "       'TrafficType_dummies_2', 'average_informational_duration_skew_s',\n",
    "                    'average_ProductRelated_duration_skew_s', \n",
    "                    'average_administrative_duration_skew_s',\n",
    "                    'average_BounceRates/ExitRates_skew_s',\n",
    "       'season_dummies_Fall', 'PageValues_skew_s']                      \n",
    "'''clf2 =RandomForestClassifier(max_depth =  4 , \n",
    "                                  min_samples_split = 6,\n",
    "                                  min_samples_leaf =1  , \n",
    "                                  n_estimators = 1750 ,\n",
    "                                  random_state=123)\n",
    "'''\n",
    "\n",
    "clf2 =BalancedRandomForestClassifier(max_depth =  7 , \n",
    "                                  min_samples_split = 6,\n",
    "                                  min_samples_leaf =1  , \n",
    "                                  n_estimators = 1750 ,\n",
    "                                  random_state=123)\n",
    "                                     #,n_jobs=-1)\n",
    "\n",
    "\n",
    "RF_best_features = ['Region_dummies_1', 'TrafficType_dummies_11',\n",
    "                    'season_dummies_winter', 'Weekend_binary',\n",
    "       'VisitorType_dummies_New_Visitor',\n",
    "                    'VisitorType_dummies_Returning_Visitor',\n",
    "                    'OperatingSystems_dummies_2', 'TrafficType_dummies_3', \n",
    "                    'average_informational_duration_skew_s',\n",
    "       'OperatingSystems_dummies_3', 'season_dummies_Spring',\n",
    "                    'TrafficType_dummies_2', 'season_dummies_Fall',\n",
    "                    'average_ProductRelated_duration_skew_s', \n",
    "                    'average_administrative_duration_skew_s',\n",
    "       'average_BounceRates/ExitRates_skew_s', 'PageValues_skew_s']\n",
    "\n",
    "clf3 = SVC(C=1, break_ties=False, cache_size=200,\n",
    "           class_weight=None, coef0=0.0,\n",
    "    decision_function_shape='ovr', degree=3,\n",
    "           gamma=1, kernel='linear',\n",
    "    max_iter=-1, probability=True, random_state=123,\n",
    "           shrinking=True, tol=0.001,\n",
    "           verbose=False)\n",
    "\n",
    "#base_estimator = AdaBoostClassifier(n_estimators=50)\n",
    "#clf3 = base_estimator\n",
    "#EasyEnsembleClassifier(n_estimators=50, base_estimator=base_estimator,n_jobs=-1)\n",
    "#clf3= RUSBoostClassifier(random_state=123)\n",
    "\n",
    "SVC_best_features = ['Region_dummies_2', 'Browser_dummies_1',\n",
    "                     'Browser_dummies_8', 'Browser_dummies_12',\n",
    "                     'season_dummies_winter', 'Browser_dummies_13', \n",
    "                     'season_dummies_summer', 'season_dummies_Fall',\n",
    "       'OperatingSystems_dummies_7', 'TrafficType_dummies_13', \n",
    "                     'TrafficType_dummies_9', 'TrafficType_dummies_14',\n",
    "                     'TrafficType_dummies_7', 'TrafficType_dummies_6',\n",
    "                     'TrafficType_dummies_20',\n",
    "       'TrafficType_dummies_1', 'TrafficType_dummies_4',\n",
    "                     'TrafficType_dummies_3', 'TrafficType_dummies_5', \n",
    "                     'TrafficType_dummies_10', 'TrafficType_dummies_11',\n",
    "                     'TrafficType_dummies_2',\n",
    "       'TrafficType_dummies_8', 'TrafficType_dummies_16', 'PageValues_skew_s']\n",
    "\n",
    "eclf = VotingClassifier(estimators=[('gb', clf1), ('rf', clf2), (\"SVC\", clf3) ],voting='soft')\n",
    "\n",
    "\n",
    "\n",
    "\n",
    "\n",
    "eclf.fit(X_train_bal,y_train_bal)\n",
    "\n",
    "eclf_train_pred= eclf.predict(X_train_bal)\n",
    "\n",
    "eclf_test_pred = eclf.predict(X_test)\n",
    "\n",
    "print(eclf.estimators)\n",
    "\n"
   ]
  },
  {
   "cell_type": "code",
   "execution_count": 9,
   "metadata": {},
   "outputs": [
    {
     "data": {
      "text/plain": [
       "['Browser_dummies_6',\n",
       " 'Browser_dummies_11',\n",
       " 'TrafficType_dummies_3',\n",
       " 'Region_dummies_2',\n",
       " 'Browser_dummies_5',\n",
       " 'Region_dummies_3',\n",
       " 'Browser_dummies_10',\n",
       " 'Browser_dummies_3',\n",
       " 'TrafficType_dummies_8',\n",
       " 'VisitorType_dummies_New_Visitor',\n",
       " 'OperatingSystems_dummies_6',\n",
       " 'Weekend_binary',\n",
       " 'Region_dummies_6',\n",
       " 'TrafficType_dummies_6',\n",
       " 'season_dummies_Fall',\n",
       " 'season_dummies_Spring',\n",
       " 'TrafficType_dummies_12',\n",
       " 'average_ProductRelated_duration_skew_s',\n",
       " 'TrafficType_dummies_7',\n",
       " 'average_BounceRates/ExitRates_skew_s',\n",
       " 'OperatingSystems_dummies_2',\n",
       " 'Browser_dummies_12',\n",
       " 'VisitorType_dummies_Returning_Visitor',\n",
       " 'TrafficType_dummies_10',\n",
       " 'TrafficType_dummies_19',\n",
       " 'Region_dummies_7',\n",
       " 'TrafficType_dummies_14',\n",
       " 'TrafficType_dummies_16',\n",
       " 'Region_dummies_9',\n",
       " 'Browser_dummies_9',\n",
       " 'TrafficType_dummies_13',\n",
       " 'Browser_dummies_4',\n",
       " 'TrafficType_dummies_11',\n",
       " 'Browser_dummies_7',\n",
       " 'Region_dummies_8',\n",
       " 'Region_dummies_1',\n",
       " 'season_dummies_summer',\n",
       " 'TrafficType_dummies_2',\n",
       " 'TrafficType_dummies_18',\n",
       " 'Browser_dummies_13',\n",
       " 'Browser_dummies_2',\n",
       " 'TrafficType_dummies_5',\n",
       " 'PageValues_skew_s',\n",
       " 'VisitorType_dummies_Other',\n",
       " 'OperatingSystems_dummies_1',\n",
       " 'OperatingSystems_dummies_3',\n",
       " 'TrafficType_dummies_17',\n",
       " 'average_administrative_duration_skew_s',\n",
       " 'average_informational_duration_skew_s',\n",
       " 'TrafficType_dummies_20',\n",
       " 'season_dummies_winter',\n",
       " 'TrafficType_dummies_1',\n",
       " 'OperatingSystems_dummies_7',\n",
       " 'TrafficType_dummies_15',\n",
       " 'TrafficType_dummies_4',\n",
       " 'TrafficType_dummies_9',\n",
       " 'Browser_dummies_8',\n",
       " 'Region_dummies_5',\n",
       " 'OperatingSystems_dummies_5',\n",
       " 'Browser_dummies_1',\n",
       " 'Region_dummies_4',\n",
       " 'OperatingSystems_dummies_4',\n",
       " 'OperatingSystems_dummies_8']"
      ]
     },
     "execution_count": 9,
     "metadata": {},
     "output_type": "execute_result"
    }
   ],
   "source": [
    "feature_lst"
   ]
  },
  {
   "cell_type": "code",
   "execution_count": 6,
   "metadata": {},
   "outputs": [
    {
     "name": "stderr",
     "output_type": "stream",
     "text": [
      "/opt/tljh/user/lib/python3.6/site-packages/sklearn/model_selection/_split.py:296: FutureWarning: Setting a random_state has no effect since shuffle is False. This will raise an error in 0.24. You should leave random_state to its default (None), or set shuffle=True.\n",
      "  FutureWarning\n"
     ]
    },
    {
     "name": "stdout",
     "output_type": "stream",
     "text": [
      "Current selected features ['Browser_dummies_6']\n",
      "\n",
      "\n",
      "average f1 score (bias) 0.0\n",
      "average f1 score (variance) 0.0\n",
      "\n",
      "\n"
     ]
    },
    {
     "name": "stderr",
     "output_type": "stream",
     "text": [
      "/opt/tljh/user/lib/python3.6/site-packages/sklearn/model_selection/_split.py:296: FutureWarning: Setting a random_state has no effect since shuffle is False. This will raise an error in 0.24. You should leave random_state to its default (None), or set shuffle=True.\n",
      "  FutureWarning\n"
     ]
    },
    {
     "name": "stdout",
     "output_type": "stream",
     "text": [
      "Current selected features ['Browser_dummies_6', 'Browser_dummies_11']\n",
      "\n",
      "\n",
      "average f1 score (bias) 0.0\n",
      "average f1 score (variance) 0.0\n",
      "\n",
      "\n"
     ]
    },
    {
     "name": "stderr",
     "output_type": "stream",
     "text": [
      "/opt/tljh/user/lib/python3.6/site-packages/sklearn/model_selection/_split.py:296: FutureWarning: Setting a random_state has no effect since shuffle is False. This will raise an error in 0.24. You should leave random_state to its default (None), or set shuffle=True.\n",
      "  FutureWarning\n"
     ]
    },
    {
     "name": "stdout",
     "output_type": "stream",
     "text": [
      "Current selected features ['Browser_dummies_6', 'Browser_dummies_11', 'TrafficType_dummies_3']\n",
      "\n",
      "\n",
      "average f1 score (bias) 0.6623227288715265\n",
      "average f1 score (variance) 0.002080854343937788\n",
      "\n",
      "\n"
     ]
    },
    {
     "name": "stderr",
     "output_type": "stream",
     "text": [
      "/opt/tljh/user/lib/python3.6/site-packages/sklearn/model_selection/_split.py:296: FutureWarning: Setting a random_state has no effect since shuffle is False. This will raise an error in 0.24. You should leave random_state to its default (None), or set shuffle=True.\n",
      "  FutureWarning\n"
     ]
    },
    {
     "name": "stdout",
     "output_type": "stream",
     "text": [
      "Current selected features ['Browser_dummies_6', 'Browser_dummies_11', 'TrafficType_dummies_3', 'Region_dummies_2']\n",
      "\n",
      "\n",
      "average f1 score (bias) 0.6627362372238006\n",
      "average f1 score (variance) 0.001919179010761607\n",
      "\n",
      "\n"
     ]
    },
    {
     "name": "stderr",
     "output_type": "stream",
     "text": [
      "/opt/tljh/user/lib/python3.6/site-packages/sklearn/model_selection/_split.py:296: FutureWarning: Setting a random_state has no effect since shuffle is False. This will raise an error in 0.24. You should leave random_state to its default (None), or set shuffle=True.\n",
      "  FutureWarning\n"
     ]
    },
    {
     "name": "stdout",
     "output_type": "stream",
     "text": [
      "Current selected features ['Browser_dummies_6', 'Browser_dummies_11', 'TrafficType_dummies_3', 'Region_dummies_2', 'Browser_dummies_5']\n",
      "\n",
      "\n",
      "average f1 score (bias) 0.662987927843679\n",
      "average f1 score (variance) 0.0021708696306401154\n",
      "\n",
      "\n"
     ]
    },
    {
     "name": "stderr",
     "output_type": "stream",
     "text": [
      "/opt/tljh/user/lib/python3.6/site-packages/sklearn/model_selection/_split.py:296: FutureWarning: Setting a random_state has no effect since shuffle is False. This will raise an error in 0.24. You should leave random_state to its default (None), or set shuffle=True.\n",
      "  FutureWarning\n"
     ]
    },
    {
     "name": "stdout",
     "output_type": "stream",
     "text": [
      "Current selected features ['Browser_dummies_6', 'Browser_dummies_11', 'TrafficType_dummies_3', 'Region_dummies_2', 'Browser_dummies_5', 'Region_dummies_3']\n",
      "\n",
      "\n",
      "average f1 score (bias) 0.6408356945611953\n",
      "average f1 score (variance) 0.024323102913123895\n",
      "\n",
      "\n"
     ]
    },
    {
     "name": "stderr",
     "output_type": "stream",
     "text": [
      "/opt/tljh/user/lib/python3.6/site-packages/sklearn/model_selection/_split.py:296: FutureWarning: Setting a random_state has no effect since shuffle is False. This will raise an error in 0.24. You should leave random_state to its default (None), or set shuffle=True.\n",
      "  FutureWarning\n"
     ]
    },
    {
     "name": "stdout",
     "output_type": "stream",
     "text": [
      "Current selected features ['Browser_dummies_6', 'Browser_dummies_11', 'TrafficType_dummies_3', 'Region_dummies_2', 'Browser_dummies_5', 'Region_dummies_3', 'Browser_dummies_10']\n",
      "\n",
      "\n",
      "average f1 score (bias) 0.6407123467843105\n",
      "average f1 score (variance) 0.02437887166733904\n",
      "\n",
      "\n"
     ]
    },
    {
     "name": "stderr",
     "output_type": "stream",
     "text": [
      "/opt/tljh/user/lib/python3.6/site-packages/sklearn/model_selection/_split.py:296: FutureWarning: Setting a random_state has no effect since shuffle is False. This will raise an error in 0.24. You should leave random_state to its default (None), or set shuffle=True.\n",
      "  FutureWarning\n"
     ]
    },
    {
     "name": "stdout",
     "output_type": "stream",
     "text": [
      "Current selected features ['Browser_dummies_6', 'Browser_dummies_11', 'TrafficType_dummies_3', 'Region_dummies_2', 'Browser_dummies_5', 'Region_dummies_3', 'Browser_dummies_10', 'Browser_dummies_3']\n",
      "\n",
      "\n",
      "average f1 score (bias) 0.6419636958730286\n",
      "average f1 score (variance) 0.024956023238757397\n",
      "\n",
      "\n"
     ]
    },
    {
     "name": "stderr",
     "output_type": "stream",
     "text": [
      "/opt/tljh/user/lib/python3.6/site-packages/sklearn/model_selection/_split.py:296: FutureWarning: Setting a random_state has no effect since shuffle is False. This will raise an error in 0.24. You should leave random_state to its default (None), or set shuffle=True.\n",
      "  FutureWarning\n"
     ]
    },
    {
     "name": "stdout",
     "output_type": "stream",
     "text": [
      "Current selected features ['Browser_dummies_6', 'Browser_dummies_11', 'TrafficType_dummies_3', 'Region_dummies_2', 'Browser_dummies_5', 'Region_dummies_3', 'Browser_dummies_10', 'Browser_dummies_3', 'TrafficType_dummies_8']\n",
      "\n",
      "\n",
      "average f1 score (bias) 0.6443454480427406\n",
      "average f1 score (variance) 0.022763934368795202\n",
      "\n",
      "\n"
     ]
    },
    {
     "name": "stderr",
     "output_type": "stream",
     "text": [
      "/opt/tljh/user/lib/python3.6/site-packages/sklearn/model_selection/_split.py:296: FutureWarning: Setting a random_state has no effect since shuffle is False. This will raise an error in 0.24. You should leave random_state to its default (None), or set shuffle=True.\n",
      "  FutureWarning\n"
     ]
    },
    {
     "name": "stdout",
     "output_type": "stream",
     "text": [
      "Current selected features ['Browser_dummies_6', 'Browser_dummies_11', 'TrafficType_dummies_3', 'Region_dummies_2', 'Browser_dummies_5', 'Region_dummies_3', 'Browser_dummies_10', 'Browser_dummies_3', 'TrafficType_dummies_8', 'VisitorType_dummies_New_Visitor']\n",
      "\n",
      "\n",
      "average f1 score (bias) 0.4137534885831089\n",
      "average f1 score (variance) 0.036635616475256844\n",
      "\n",
      "\n"
     ]
    },
    {
     "name": "stderr",
     "output_type": "stream",
     "text": [
      "/opt/tljh/user/lib/python3.6/site-packages/sklearn/model_selection/_split.py:296: FutureWarning: Setting a random_state has no effect since shuffle is False. This will raise an error in 0.24. You should leave random_state to its default (None), or set shuffle=True.\n",
      "  FutureWarning\n"
     ]
    },
    {
     "name": "stdout",
     "output_type": "stream",
     "text": [
      "Current selected features ['Browser_dummies_6', 'Browser_dummies_11', 'TrafficType_dummies_3', 'Region_dummies_2', 'Browser_dummies_5', 'Region_dummies_3', 'Browser_dummies_10', 'Browser_dummies_3', 'TrafficType_dummies_8', 'VisitorType_dummies_New_Visitor', 'OperatingSystems_dummies_6']\n",
      "\n",
      "\n",
      "average f1 score (bias) 0.4142740697361549\n",
      "average f1 score (variance) 0.036407305993890554\n",
      "\n",
      "\n"
     ]
    },
    {
     "name": "stderr",
     "output_type": "stream",
     "text": [
      "/opt/tljh/user/lib/python3.6/site-packages/sklearn/model_selection/_split.py:296: FutureWarning: Setting a random_state has no effect since shuffle is False. This will raise an error in 0.24. You should leave random_state to its default (None), or set shuffle=True.\n",
      "  FutureWarning\n"
     ]
    },
    {
     "name": "stdout",
     "output_type": "stream",
     "text": [
      "Current selected features ['Browser_dummies_6', 'Browser_dummies_11', 'TrafficType_dummies_3', 'Region_dummies_2', 'Browser_dummies_5', 'Region_dummies_3', 'Browser_dummies_10', 'Browser_dummies_3', 'TrafficType_dummies_8', 'VisitorType_dummies_New_Visitor', 'OperatingSystems_dummies_6', 'Weekend_binary']\n",
      "\n",
      "\n",
      "average f1 score (bias) 0.4590595028864253\n",
      "average f1 score (variance) 0.03690944306759089\n",
      "\n",
      "\n"
     ]
    },
    {
     "name": "stderr",
     "output_type": "stream",
     "text": [
      "/opt/tljh/user/lib/python3.6/site-packages/sklearn/model_selection/_split.py:296: FutureWarning: Setting a random_state has no effect since shuffle is False. This will raise an error in 0.24. You should leave random_state to its default (None), or set shuffle=True.\n",
      "  FutureWarning\n"
     ]
    },
    {
     "name": "stdout",
     "output_type": "stream",
     "text": [
      "Current selected features ['Browser_dummies_6', 'Browser_dummies_11', 'TrafficType_dummies_3', 'Region_dummies_2', 'Browser_dummies_5', 'Region_dummies_3', 'Browser_dummies_10', 'Browser_dummies_3', 'TrafficType_dummies_8', 'VisitorType_dummies_New_Visitor', 'OperatingSystems_dummies_6', 'Weekend_binary', 'Region_dummies_6']\n",
      "\n",
      "\n",
      "average f1 score (bias) 0.46743303427602295\n",
      "average f1 score (variance) 0.07409611863926852\n",
      "\n",
      "\n"
     ]
    },
    {
     "name": "stderr",
     "output_type": "stream",
     "text": [
      "/opt/tljh/user/lib/python3.6/site-packages/sklearn/model_selection/_split.py:296: FutureWarning: Setting a random_state has no effect since shuffle is False. This will raise an error in 0.24. You should leave random_state to its default (None), or set shuffle=True.\n",
      "  FutureWarning\n"
     ]
    },
    {
     "name": "stdout",
     "output_type": "stream",
     "text": [
      "Current selected features ['Browser_dummies_6', 'Browser_dummies_11', 'TrafficType_dummies_3', 'Region_dummies_2', 'Browser_dummies_5', 'Region_dummies_3', 'Browser_dummies_10', 'Browser_dummies_3', 'TrafficType_dummies_8', 'VisitorType_dummies_New_Visitor', 'OperatingSystems_dummies_6', 'Weekend_binary', 'Region_dummies_6', 'TrafficType_dummies_6']\n",
      "\n",
      "\n",
      "average f1 score (bias) 0.5884622203648475\n",
      "average f1 score (variance) 0.061811003678868326\n",
      "\n",
      "\n"
     ]
    },
    {
     "name": "stderr",
     "output_type": "stream",
     "text": [
      "/opt/tljh/user/lib/python3.6/site-packages/sklearn/model_selection/_split.py:296: FutureWarning: Setting a random_state has no effect since shuffle is False. This will raise an error in 0.24. You should leave random_state to its default (None), or set shuffle=True.\n",
      "  FutureWarning\n"
     ]
    },
    {
     "name": "stdout",
     "output_type": "stream",
     "text": [
      "Current selected features ['Browser_dummies_6', 'Browser_dummies_11', 'TrafficType_dummies_3', 'Region_dummies_2', 'Browser_dummies_5', 'Region_dummies_3', 'Browser_dummies_10', 'Browser_dummies_3', 'TrafficType_dummies_8', 'VisitorType_dummies_New_Visitor', 'OperatingSystems_dummies_6', 'Weekend_binary', 'Region_dummies_6', 'TrafficType_dummies_6', 'season_dummies_Fall']\n",
      "\n",
      "\n",
      "average f1 score (bias) 0.6423706556131099\n",
      "average f1 score (variance) 0.001893539056646798\n",
      "\n",
      "\n"
     ]
    },
    {
     "name": "stderr",
     "output_type": "stream",
     "text": [
      "/opt/tljh/user/lib/python3.6/site-packages/sklearn/model_selection/_split.py:296: FutureWarning: Setting a random_state has no effect since shuffle is False. This will raise an error in 0.24. You should leave random_state to its default (None), or set shuffle=True.\n",
      "  FutureWarning\n"
     ]
    },
    {
     "name": "stdout",
     "output_type": "stream",
     "text": [
      "Current selected features ['Browser_dummies_6', 'Browser_dummies_11', 'TrafficType_dummies_3', 'Region_dummies_2', 'Browser_dummies_5', 'Region_dummies_3', 'Browser_dummies_10', 'Browser_dummies_3', 'TrafficType_dummies_8', 'VisitorType_dummies_New_Visitor', 'OperatingSystems_dummies_6', 'Weekend_binary', 'Region_dummies_6', 'TrafficType_dummies_6', 'season_dummies_Fall', 'season_dummies_Spring']\n",
      "\n",
      "\n",
      "average f1 score (bias) 0.642240723973456\n",
      "average f1 score (variance) 0.0037701203332831112\n",
      "\n",
      "\n"
     ]
    },
    {
     "name": "stderr",
     "output_type": "stream",
     "text": [
      "/opt/tljh/user/lib/python3.6/site-packages/sklearn/model_selection/_split.py:296: FutureWarning: Setting a random_state has no effect since shuffle is False. This will raise an error in 0.24. You should leave random_state to its default (None), or set shuffle=True.\n",
      "  FutureWarning\n"
     ]
    },
    {
     "name": "stdout",
     "output_type": "stream",
     "text": [
      "Current selected features ['Browser_dummies_6', 'Browser_dummies_11', 'TrafficType_dummies_3', 'Region_dummies_2', 'Browser_dummies_5', 'Region_dummies_3', 'Browser_dummies_10', 'Browser_dummies_3', 'TrafficType_dummies_8', 'VisitorType_dummies_New_Visitor', 'OperatingSystems_dummies_6', 'Weekend_binary', 'Region_dummies_6', 'TrafficType_dummies_6', 'season_dummies_Fall', 'season_dummies_Spring', 'TrafficType_dummies_12']\n",
      "\n",
      "\n",
      "average f1 score (bias) 0.6425147732349605\n",
      "average f1 score (variance) 0.0038219627774441767\n",
      "\n",
      "\n"
     ]
    },
    {
     "name": "stderr",
     "output_type": "stream",
     "text": [
      "/opt/tljh/user/lib/python3.6/site-packages/sklearn/model_selection/_split.py:296: FutureWarning: Setting a random_state has no effect since shuffle is False. This will raise an error in 0.24. You should leave random_state to its default (None), or set shuffle=True.\n",
      "  FutureWarning\n"
     ]
    },
    {
     "name": "stdout",
     "output_type": "stream",
     "text": [
      "Current selected features ['Browser_dummies_6', 'Browser_dummies_11', 'TrafficType_dummies_3', 'Region_dummies_2', 'Browser_dummies_5', 'Region_dummies_3', 'Browser_dummies_10', 'Browser_dummies_3', 'TrafficType_dummies_8', 'VisitorType_dummies_New_Visitor', 'OperatingSystems_dummies_6', 'Weekend_binary', 'Region_dummies_6', 'TrafficType_dummies_6', 'season_dummies_Fall', 'season_dummies_Spring', 'TrafficType_dummies_12', 'average_ProductRelated_duration_skew_s']\n",
      "\n",
      "\n",
      "average f1 score (bias) 0.6929350409830866\n",
      "average f1 score (variance) 0.012248677933157537\n",
      "\n",
      "\n"
     ]
    },
    {
     "name": "stderr",
     "output_type": "stream",
     "text": [
      "/opt/tljh/user/lib/python3.6/site-packages/sklearn/model_selection/_split.py:296: FutureWarning: Setting a random_state has no effect since shuffle is False. This will raise an error in 0.24. You should leave random_state to its default (None), or set shuffle=True.\n",
      "  FutureWarning\n"
     ]
    },
    {
     "name": "stdout",
     "output_type": "stream",
     "text": [
      "Current selected features ['Browser_dummies_6', 'Browser_dummies_11', 'TrafficType_dummies_3', 'Region_dummies_2', 'Browser_dummies_5', 'Region_dummies_3', 'Browser_dummies_10', 'Browser_dummies_3', 'TrafficType_dummies_8', 'VisitorType_dummies_New_Visitor', 'OperatingSystems_dummies_6', 'Weekend_binary', 'Region_dummies_6', 'TrafficType_dummies_6', 'season_dummies_Fall', 'season_dummies_Spring', 'TrafficType_dummies_12', 'average_ProductRelated_duration_skew_s', 'TrafficType_dummies_7']\n",
      "\n",
      "\n",
      "average f1 score (bias) 0.6906445709989085\n",
      "average f1 score (variance) 0.01113584443135851\n",
      "\n",
      "\n"
     ]
    },
    {
     "name": "stderr",
     "output_type": "stream",
     "text": [
      "/opt/tljh/user/lib/python3.6/site-packages/sklearn/model_selection/_split.py:296: FutureWarning: Setting a random_state has no effect since shuffle is False. This will raise an error in 0.24. You should leave random_state to its default (None), or set shuffle=True.\n",
      "  FutureWarning\n"
     ]
    },
    {
     "name": "stdout",
     "output_type": "stream",
     "text": [
      "Current selected features ['Browser_dummies_6', 'Browser_dummies_11', 'TrafficType_dummies_3', 'Region_dummies_2', 'Browser_dummies_5', 'Region_dummies_3', 'Browser_dummies_10', 'Browser_dummies_3', 'TrafficType_dummies_8', 'VisitorType_dummies_New_Visitor', 'OperatingSystems_dummies_6', 'Weekend_binary', 'Region_dummies_6', 'TrafficType_dummies_6', 'season_dummies_Fall', 'season_dummies_Spring', 'TrafficType_dummies_12', 'average_ProductRelated_duration_skew_s', 'TrafficType_dummies_7', 'average_BounceRates/ExitRates_skew_s']\n",
      "\n",
      "\n",
      "average f1 score (bias) 0.7528314664557483\n",
      "average f1 score (variance) 0.003225931803484794\n",
      "\n",
      "\n"
     ]
    },
    {
     "name": "stderr",
     "output_type": "stream",
     "text": [
      "/opt/tljh/user/lib/python3.6/site-packages/sklearn/model_selection/_split.py:296: FutureWarning: Setting a random_state has no effect since shuffle is False. This will raise an error in 0.24. You should leave random_state to its default (None), or set shuffle=True.\n",
      "  FutureWarning\n"
     ]
    },
    {
     "name": "stdout",
     "output_type": "stream",
     "text": [
      "Current selected features ['Browser_dummies_6', 'Browser_dummies_11', 'TrafficType_dummies_3', 'Region_dummies_2', 'Browser_dummies_5', 'Region_dummies_3', 'Browser_dummies_10', 'Browser_dummies_3', 'TrafficType_dummies_8', 'VisitorType_dummies_New_Visitor', 'OperatingSystems_dummies_6', 'Weekend_binary', 'Region_dummies_6', 'TrafficType_dummies_6', 'season_dummies_Fall', 'season_dummies_Spring', 'TrafficType_dummies_12', 'average_ProductRelated_duration_skew_s', 'TrafficType_dummies_7', 'average_BounceRates/ExitRates_skew_s', 'OperatingSystems_dummies_2']\n",
      "\n",
      "\n",
      "average f1 score (bias) 0.7601133854651647\n",
      "average f1 score (variance) 0.0051060576683888415\n",
      "\n",
      "\n"
     ]
    },
    {
     "name": "stderr",
     "output_type": "stream",
     "text": [
      "/opt/tljh/user/lib/python3.6/site-packages/sklearn/model_selection/_split.py:296: FutureWarning: Setting a random_state has no effect since shuffle is False. This will raise an error in 0.24. You should leave random_state to its default (None), or set shuffle=True.\n",
      "  FutureWarning\n"
     ]
    },
    {
     "name": "stdout",
     "output_type": "stream",
     "text": [
      "Current selected features ['Browser_dummies_6', 'Browser_dummies_11', 'TrafficType_dummies_3', 'Region_dummies_2', 'Browser_dummies_5', 'Region_dummies_3', 'Browser_dummies_10', 'Browser_dummies_3', 'TrafficType_dummies_8', 'VisitorType_dummies_New_Visitor', 'OperatingSystems_dummies_6', 'Weekend_binary', 'Region_dummies_6', 'TrafficType_dummies_6', 'season_dummies_Fall', 'season_dummies_Spring', 'TrafficType_dummies_12', 'average_ProductRelated_duration_skew_s', 'TrafficType_dummies_7', 'average_BounceRates/ExitRates_skew_s', 'OperatingSystems_dummies_2', 'Browser_dummies_12']\n",
      "\n",
      "\n",
      "average f1 score (bias) 0.7593363306057866\n",
      "average f1 score (variance) 0.004729863247641353\n",
      "\n",
      "\n"
     ]
    },
    {
     "name": "stderr",
     "output_type": "stream",
     "text": [
      "/opt/tljh/user/lib/python3.6/site-packages/sklearn/model_selection/_split.py:296: FutureWarning: Setting a random_state has no effect since shuffle is False. This will raise an error in 0.24. You should leave random_state to its default (None), or set shuffle=True.\n",
      "  FutureWarning\n"
     ]
    },
    {
     "name": "stdout",
     "output_type": "stream",
     "text": [
      "Current selected features ['Browser_dummies_6', 'Browser_dummies_11', 'TrafficType_dummies_3', 'Region_dummies_2', 'Browser_dummies_5', 'Region_dummies_3', 'Browser_dummies_10', 'Browser_dummies_3', 'TrafficType_dummies_8', 'VisitorType_dummies_New_Visitor', 'OperatingSystems_dummies_6', 'Weekend_binary', 'Region_dummies_6', 'TrafficType_dummies_6', 'season_dummies_Fall', 'season_dummies_Spring', 'TrafficType_dummies_12', 'average_ProductRelated_duration_skew_s', 'TrafficType_dummies_7', 'average_BounceRates/ExitRates_skew_s', 'OperatingSystems_dummies_2', 'Browser_dummies_12', 'VisitorType_dummies_Returning_Visitor']\n",
      "\n",
      "\n",
      "average f1 score (bias) 0.7605875831501702\n",
      "average f1 score (variance) 0.00431386543686374\n",
      "\n",
      "\n"
     ]
    },
    {
     "name": "stderr",
     "output_type": "stream",
     "text": [
      "/opt/tljh/user/lib/python3.6/site-packages/sklearn/model_selection/_split.py:296: FutureWarning: Setting a random_state has no effect since shuffle is False. This will raise an error in 0.24. You should leave random_state to its default (None), or set shuffle=True.\n",
      "  FutureWarning\n"
     ]
    },
    {
     "name": "stdout",
     "output_type": "stream",
     "text": [
      "Current selected features ['Browser_dummies_6', 'Browser_dummies_11', 'TrafficType_dummies_3', 'Region_dummies_2', 'Browser_dummies_5', 'Region_dummies_3', 'Browser_dummies_10', 'Browser_dummies_3', 'TrafficType_dummies_8', 'VisitorType_dummies_New_Visitor', 'OperatingSystems_dummies_6', 'Weekend_binary', 'Region_dummies_6', 'TrafficType_dummies_6', 'season_dummies_Fall', 'season_dummies_Spring', 'TrafficType_dummies_12', 'average_ProductRelated_duration_skew_s', 'TrafficType_dummies_7', 'average_BounceRates/ExitRates_skew_s', 'OperatingSystems_dummies_2', 'Browser_dummies_12', 'VisitorType_dummies_Returning_Visitor', 'TrafficType_dummies_10']\n",
      "\n",
      "\n",
      "average f1 score (bias) 0.7603782243854742\n",
      "average f1 score (variance) 0.003893897403298374\n",
      "\n",
      "\n"
     ]
    },
    {
     "name": "stderr",
     "output_type": "stream",
     "text": [
      "/opt/tljh/user/lib/python3.6/site-packages/sklearn/model_selection/_split.py:296: FutureWarning: Setting a random_state has no effect since shuffle is False. This will raise an error in 0.24. You should leave random_state to its default (None), or set shuffle=True.\n",
      "  FutureWarning\n"
     ]
    },
    {
     "name": "stdout",
     "output_type": "stream",
     "text": [
      "Current selected features ['Browser_dummies_6', 'Browser_dummies_11', 'TrafficType_dummies_3', 'Region_dummies_2', 'Browser_dummies_5', 'Region_dummies_3', 'Browser_dummies_10', 'Browser_dummies_3', 'TrafficType_dummies_8', 'VisitorType_dummies_New_Visitor', 'OperatingSystems_dummies_6', 'Weekend_binary', 'Region_dummies_6', 'TrafficType_dummies_6', 'season_dummies_Fall', 'season_dummies_Spring', 'TrafficType_dummies_12', 'average_ProductRelated_duration_skew_s', 'TrafficType_dummies_7', 'average_BounceRates/ExitRates_skew_s', 'OperatingSystems_dummies_2', 'Browser_dummies_12', 'VisitorType_dummies_Returning_Visitor', 'TrafficType_dummies_10', 'TrafficType_dummies_19']\n",
      "\n",
      "\n",
      "average f1 score (bias) 0.7608804426984712\n",
      "average f1 score (variance) 0.00435550702882298\n",
      "\n",
      "\n"
     ]
    },
    {
     "name": "stderr",
     "output_type": "stream",
     "text": [
      "/opt/tljh/user/lib/python3.6/site-packages/sklearn/model_selection/_split.py:296: FutureWarning: Setting a random_state has no effect since shuffle is False. This will raise an error in 0.24. You should leave random_state to its default (None), or set shuffle=True.\n",
      "  FutureWarning\n"
     ]
    },
    {
     "name": "stdout",
     "output_type": "stream",
     "text": [
      "Current selected features ['Browser_dummies_6', 'Browser_dummies_11', 'TrafficType_dummies_3', 'Region_dummies_2', 'Browser_dummies_5', 'Region_dummies_3', 'Browser_dummies_10', 'Browser_dummies_3', 'TrafficType_dummies_8', 'VisitorType_dummies_New_Visitor', 'OperatingSystems_dummies_6', 'Weekend_binary', 'Region_dummies_6', 'TrafficType_dummies_6', 'season_dummies_Fall', 'season_dummies_Spring', 'TrafficType_dummies_12', 'average_ProductRelated_duration_skew_s', 'TrafficType_dummies_7', 'average_BounceRates/ExitRates_skew_s', 'OperatingSystems_dummies_2', 'Browser_dummies_12', 'VisitorType_dummies_Returning_Visitor', 'TrafficType_dummies_10', 'TrafficType_dummies_19', 'Region_dummies_7']\n",
      "\n",
      "\n",
      "average f1 score (bias) 0.761993087179391\n",
      "average f1 score (variance) 0.006399283392816035\n",
      "\n",
      "\n"
     ]
    },
    {
     "name": "stderr",
     "output_type": "stream",
     "text": [
      "/opt/tljh/user/lib/python3.6/site-packages/sklearn/model_selection/_split.py:296: FutureWarning: Setting a random_state has no effect since shuffle is False. This will raise an error in 0.24. You should leave random_state to its default (None), or set shuffle=True.\n",
      "  FutureWarning\n"
     ]
    },
    {
     "name": "stdout",
     "output_type": "stream",
     "text": [
      "Current selected features ['Browser_dummies_6', 'Browser_dummies_11', 'TrafficType_dummies_3', 'Region_dummies_2', 'Browser_dummies_5', 'Region_dummies_3', 'Browser_dummies_10', 'Browser_dummies_3', 'TrafficType_dummies_8', 'VisitorType_dummies_New_Visitor', 'OperatingSystems_dummies_6', 'Weekend_binary', 'Region_dummies_6', 'TrafficType_dummies_6', 'season_dummies_Fall', 'season_dummies_Spring', 'TrafficType_dummies_12', 'average_ProductRelated_duration_skew_s', 'TrafficType_dummies_7', 'average_BounceRates/ExitRates_skew_s', 'OperatingSystems_dummies_2', 'Browser_dummies_12', 'VisitorType_dummies_Returning_Visitor', 'TrafficType_dummies_10', 'TrafficType_dummies_19', 'Region_dummies_7', 'TrafficType_dummies_14']\n",
      "\n",
      "\n",
      "average f1 score (bias) 0.7625062822522284\n",
      "average f1 score (variance) 0.006432662620326546\n",
      "\n",
      "\n"
     ]
    },
    {
     "name": "stderr",
     "output_type": "stream",
     "text": [
      "/opt/tljh/user/lib/python3.6/site-packages/sklearn/model_selection/_split.py:296: FutureWarning: Setting a random_state has no effect since shuffle is False. This will raise an error in 0.24. You should leave random_state to its default (None), or set shuffle=True.\n",
      "  FutureWarning\n"
     ]
    },
    {
     "name": "stdout",
     "output_type": "stream",
     "text": [
      "Current selected features ['Browser_dummies_6', 'Browser_dummies_11', 'TrafficType_dummies_3', 'Region_dummies_2', 'Browser_dummies_5', 'Region_dummies_3', 'Browser_dummies_10', 'Browser_dummies_3', 'TrafficType_dummies_8', 'VisitorType_dummies_New_Visitor', 'OperatingSystems_dummies_6', 'Weekend_binary', 'Region_dummies_6', 'TrafficType_dummies_6', 'season_dummies_Fall', 'season_dummies_Spring', 'TrafficType_dummies_12', 'average_ProductRelated_duration_skew_s', 'TrafficType_dummies_7', 'average_BounceRates/ExitRates_skew_s', 'OperatingSystems_dummies_2', 'Browser_dummies_12', 'VisitorType_dummies_Returning_Visitor', 'TrafficType_dummies_10', 'TrafficType_dummies_19', 'Region_dummies_7', 'TrafficType_dummies_14', 'TrafficType_dummies_16']\n",
      "\n",
      "\n",
      "average f1 score (bias) 0.7606224501887495\n",
      "average f1 score (variance) 0.005345081509319061\n",
      "\n",
      "\n"
     ]
    },
    {
     "name": "stderr",
     "output_type": "stream",
     "text": [
      "/opt/tljh/user/lib/python3.6/site-packages/sklearn/model_selection/_split.py:296: FutureWarning: Setting a random_state has no effect since shuffle is False. This will raise an error in 0.24. You should leave random_state to its default (None), or set shuffle=True.\n",
      "  FutureWarning\n"
     ]
    },
    {
     "name": "stdout",
     "output_type": "stream",
     "text": [
      "Current selected features ['Browser_dummies_6', 'Browser_dummies_11', 'TrafficType_dummies_3', 'Region_dummies_2', 'Browser_dummies_5', 'Region_dummies_3', 'Browser_dummies_10', 'Browser_dummies_3', 'TrafficType_dummies_8', 'VisitorType_dummies_New_Visitor', 'OperatingSystems_dummies_6', 'Weekend_binary', 'Region_dummies_6', 'TrafficType_dummies_6', 'season_dummies_Fall', 'season_dummies_Spring', 'TrafficType_dummies_12', 'average_ProductRelated_duration_skew_s', 'TrafficType_dummies_7', 'average_BounceRates/ExitRates_skew_s', 'OperatingSystems_dummies_2', 'Browser_dummies_12', 'VisitorType_dummies_Returning_Visitor', 'TrafficType_dummies_10', 'TrafficType_dummies_19', 'Region_dummies_7', 'TrafficType_dummies_14', 'TrafficType_dummies_16', 'Region_dummies_9']\n",
      "\n",
      "\n",
      "average f1 score (bias) 0.7631591766463528\n",
      "average f1 score (variance) 0.003740314297177638\n",
      "\n",
      "\n"
     ]
    },
    {
     "name": "stderr",
     "output_type": "stream",
     "text": [
      "/opt/tljh/user/lib/python3.6/site-packages/sklearn/model_selection/_split.py:296: FutureWarning: Setting a random_state has no effect since shuffle is False. This will raise an error in 0.24. You should leave random_state to its default (None), or set shuffle=True.\n",
      "  FutureWarning\n"
     ]
    },
    {
     "name": "stdout",
     "output_type": "stream",
     "text": [
      "Current selected features ['Browser_dummies_6', 'Browser_dummies_11', 'TrafficType_dummies_3', 'Region_dummies_2', 'Browser_dummies_5', 'Region_dummies_3', 'Browser_dummies_10', 'Browser_dummies_3', 'TrafficType_dummies_8', 'VisitorType_dummies_New_Visitor', 'OperatingSystems_dummies_6', 'Weekend_binary', 'Region_dummies_6', 'TrafficType_dummies_6', 'season_dummies_Fall', 'season_dummies_Spring', 'TrafficType_dummies_12', 'average_ProductRelated_duration_skew_s', 'TrafficType_dummies_7', 'average_BounceRates/ExitRates_skew_s', 'OperatingSystems_dummies_2', 'Browser_dummies_12', 'VisitorType_dummies_Returning_Visitor', 'TrafficType_dummies_10', 'TrafficType_dummies_19', 'Region_dummies_7', 'TrafficType_dummies_14', 'TrafficType_dummies_16', 'Region_dummies_9', 'Browser_dummies_9']\n",
      "\n",
      "\n",
      "average f1 score (bias) 0.7628822731298692\n",
      "average f1 score (variance) 0.00438054814219041\n",
      "\n",
      "\n"
     ]
    },
    {
     "name": "stderr",
     "output_type": "stream",
     "text": [
      "/opt/tljh/user/lib/python3.6/site-packages/sklearn/model_selection/_split.py:296: FutureWarning: Setting a random_state has no effect since shuffle is False. This will raise an error in 0.24. You should leave random_state to its default (None), or set shuffle=True.\n",
      "  FutureWarning\n"
     ]
    },
    {
     "name": "stdout",
     "output_type": "stream",
     "text": [
      "Current selected features ['Browser_dummies_6', 'Browser_dummies_11', 'TrafficType_dummies_3', 'Region_dummies_2', 'Browser_dummies_5', 'Region_dummies_3', 'Browser_dummies_10', 'Browser_dummies_3', 'TrafficType_dummies_8', 'VisitorType_dummies_New_Visitor', 'OperatingSystems_dummies_6', 'Weekend_binary', 'Region_dummies_6', 'TrafficType_dummies_6', 'season_dummies_Fall', 'season_dummies_Spring', 'TrafficType_dummies_12', 'average_ProductRelated_duration_skew_s', 'TrafficType_dummies_7', 'average_BounceRates/ExitRates_skew_s', 'OperatingSystems_dummies_2', 'Browser_dummies_12', 'VisitorType_dummies_Returning_Visitor', 'TrafficType_dummies_10', 'TrafficType_dummies_19', 'Region_dummies_7', 'TrafficType_dummies_14', 'TrafficType_dummies_16', 'Region_dummies_9', 'Browser_dummies_9', 'TrafficType_dummies_13']\n",
      "\n",
      "\n",
      "average f1 score (bias) 0.7731485896515209\n",
      "average f1 score (variance) 0.005689633513319414\n",
      "\n",
      "\n"
     ]
    },
    {
     "name": "stderr",
     "output_type": "stream",
     "text": [
      "/opt/tljh/user/lib/python3.6/site-packages/sklearn/model_selection/_split.py:296: FutureWarning: Setting a random_state has no effect since shuffle is False. This will raise an error in 0.24. You should leave random_state to its default (None), or set shuffle=True.\n",
      "  FutureWarning\n"
     ]
    },
    {
     "name": "stdout",
     "output_type": "stream",
     "text": [
      "Current selected features ['Browser_dummies_6', 'Browser_dummies_11', 'TrafficType_dummies_3', 'Region_dummies_2', 'Browser_dummies_5', 'Region_dummies_3', 'Browser_dummies_10', 'Browser_dummies_3', 'TrafficType_dummies_8', 'VisitorType_dummies_New_Visitor', 'OperatingSystems_dummies_6', 'Weekend_binary', 'Region_dummies_6', 'TrafficType_dummies_6', 'season_dummies_Fall', 'season_dummies_Spring', 'TrafficType_dummies_12', 'average_ProductRelated_duration_skew_s', 'TrafficType_dummies_7', 'average_BounceRates/ExitRates_skew_s', 'OperatingSystems_dummies_2', 'Browser_dummies_12', 'VisitorType_dummies_Returning_Visitor', 'TrafficType_dummies_10', 'TrafficType_dummies_19', 'Region_dummies_7', 'TrafficType_dummies_14', 'TrafficType_dummies_16', 'Region_dummies_9', 'Browser_dummies_9', 'TrafficType_dummies_13', 'Browser_dummies_4']\n",
      "\n",
      "\n",
      "average f1 score (bias) 0.774489541729912\n",
      "average f1 score (variance) 0.007463574067001599\n",
      "\n",
      "\n"
     ]
    },
    {
     "name": "stderr",
     "output_type": "stream",
     "text": [
      "/opt/tljh/user/lib/python3.6/site-packages/sklearn/model_selection/_split.py:296: FutureWarning: Setting a random_state has no effect since shuffle is False. This will raise an error in 0.24. You should leave random_state to its default (None), or set shuffle=True.\n",
      "  FutureWarning\n"
     ]
    },
    {
     "name": "stdout",
     "output_type": "stream",
     "text": [
      "Current selected features ['Browser_dummies_6', 'Browser_dummies_11', 'TrafficType_dummies_3', 'Region_dummies_2', 'Browser_dummies_5', 'Region_dummies_3', 'Browser_dummies_10', 'Browser_dummies_3', 'TrafficType_dummies_8', 'VisitorType_dummies_New_Visitor', 'OperatingSystems_dummies_6', 'Weekend_binary', 'Region_dummies_6', 'TrafficType_dummies_6', 'season_dummies_Fall', 'season_dummies_Spring', 'TrafficType_dummies_12', 'average_ProductRelated_duration_skew_s', 'TrafficType_dummies_7', 'average_BounceRates/ExitRates_skew_s', 'OperatingSystems_dummies_2', 'Browser_dummies_12', 'VisitorType_dummies_Returning_Visitor', 'TrafficType_dummies_10', 'TrafficType_dummies_19', 'Region_dummies_7', 'TrafficType_dummies_14', 'TrafficType_dummies_16', 'Region_dummies_9', 'Browser_dummies_9', 'TrafficType_dummies_13', 'Browser_dummies_4', 'TrafficType_dummies_11']\n",
      "\n",
      "\n",
      "average f1 score (bias) 0.7762661128748736\n",
      "average f1 score (variance) 0.006884846061471828\n",
      "\n",
      "\n"
     ]
    },
    {
     "name": "stderr",
     "output_type": "stream",
     "text": [
      "/opt/tljh/user/lib/python3.6/site-packages/sklearn/model_selection/_split.py:296: FutureWarning: Setting a random_state has no effect since shuffle is False. This will raise an error in 0.24. You should leave random_state to its default (None), or set shuffle=True.\n",
      "  FutureWarning\n"
     ]
    },
    {
     "name": "stdout",
     "output_type": "stream",
     "text": [
      "Current selected features ['Browser_dummies_6', 'Browser_dummies_11', 'TrafficType_dummies_3', 'Region_dummies_2', 'Browser_dummies_5', 'Region_dummies_3', 'Browser_dummies_10', 'Browser_dummies_3', 'TrafficType_dummies_8', 'VisitorType_dummies_New_Visitor', 'OperatingSystems_dummies_6', 'Weekend_binary', 'Region_dummies_6', 'TrafficType_dummies_6', 'season_dummies_Fall', 'season_dummies_Spring', 'TrafficType_dummies_12', 'average_ProductRelated_duration_skew_s', 'TrafficType_dummies_7', 'average_BounceRates/ExitRates_skew_s', 'OperatingSystems_dummies_2', 'Browser_dummies_12', 'VisitorType_dummies_Returning_Visitor', 'TrafficType_dummies_10', 'TrafficType_dummies_19', 'Region_dummies_7', 'TrafficType_dummies_14', 'TrafficType_dummies_16', 'Region_dummies_9', 'Browser_dummies_9', 'TrafficType_dummies_13', 'Browser_dummies_4', 'TrafficType_dummies_11', 'Browser_dummies_7']\n",
      "\n",
      "\n",
      "average f1 score (bias) 0.7768050441058265\n",
      "average f1 score (variance) 0.005670518254319579\n",
      "\n",
      "\n"
     ]
    },
    {
     "name": "stderr",
     "output_type": "stream",
     "text": [
      "/opt/tljh/user/lib/python3.6/site-packages/sklearn/model_selection/_split.py:296: FutureWarning: Setting a random_state has no effect since shuffle is False. This will raise an error in 0.24. You should leave random_state to its default (None), or set shuffle=True.\n",
      "  FutureWarning\n"
     ]
    },
    {
     "name": "stdout",
     "output_type": "stream",
     "text": [
      "Current selected features ['Browser_dummies_6', 'Browser_dummies_11', 'TrafficType_dummies_3', 'Region_dummies_2', 'Browser_dummies_5', 'Region_dummies_3', 'Browser_dummies_10', 'Browser_dummies_3', 'TrafficType_dummies_8', 'VisitorType_dummies_New_Visitor', 'OperatingSystems_dummies_6', 'Weekend_binary', 'Region_dummies_6', 'TrafficType_dummies_6', 'season_dummies_Fall', 'season_dummies_Spring', 'TrafficType_dummies_12', 'average_ProductRelated_duration_skew_s', 'TrafficType_dummies_7', 'average_BounceRates/ExitRates_skew_s', 'OperatingSystems_dummies_2', 'Browser_dummies_12', 'VisitorType_dummies_Returning_Visitor', 'TrafficType_dummies_10', 'TrafficType_dummies_19', 'Region_dummies_7', 'TrafficType_dummies_14', 'TrafficType_dummies_16', 'Region_dummies_9', 'Browser_dummies_9', 'TrafficType_dummies_13', 'Browser_dummies_4', 'TrafficType_dummies_11', 'Browser_dummies_7', 'Region_dummies_8']\n",
      "\n",
      "\n",
      "average f1 score (bias) 0.7781803693439525\n",
      "average f1 score (variance) 0.009442696760126101\n",
      "\n",
      "\n"
     ]
    },
    {
     "name": "stderr",
     "output_type": "stream",
     "text": [
      "/opt/tljh/user/lib/python3.6/site-packages/sklearn/model_selection/_split.py:296: FutureWarning: Setting a random_state has no effect since shuffle is False. This will raise an error in 0.24. You should leave random_state to its default (None), or set shuffle=True.\n",
      "  FutureWarning\n"
     ]
    },
    {
     "name": "stdout",
     "output_type": "stream",
     "text": [
      "Current selected features ['Browser_dummies_6', 'Browser_dummies_11', 'TrafficType_dummies_3', 'Region_dummies_2', 'Browser_dummies_5', 'Region_dummies_3', 'Browser_dummies_10', 'Browser_dummies_3', 'TrafficType_dummies_8', 'VisitorType_dummies_New_Visitor', 'OperatingSystems_dummies_6', 'Weekend_binary', 'Region_dummies_6', 'TrafficType_dummies_6', 'season_dummies_Fall', 'season_dummies_Spring', 'TrafficType_dummies_12', 'average_ProductRelated_duration_skew_s', 'TrafficType_dummies_7', 'average_BounceRates/ExitRates_skew_s', 'OperatingSystems_dummies_2', 'Browser_dummies_12', 'VisitorType_dummies_Returning_Visitor', 'TrafficType_dummies_10', 'TrafficType_dummies_19', 'Region_dummies_7', 'TrafficType_dummies_14', 'TrafficType_dummies_16', 'Region_dummies_9', 'Browser_dummies_9', 'TrafficType_dummies_13', 'Browser_dummies_4', 'TrafficType_dummies_11', 'Browser_dummies_7', 'Region_dummies_8', 'Region_dummies_1']\n",
      "\n",
      "\n",
      "average f1 score (bias) 0.7838055022330896\n",
      "average f1 score (variance) 0.01236987090123881\n",
      "\n",
      "\n"
     ]
    },
    {
     "name": "stderr",
     "output_type": "stream",
     "text": [
      "/opt/tljh/user/lib/python3.6/site-packages/sklearn/model_selection/_split.py:296: FutureWarning: Setting a random_state has no effect since shuffle is False. This will raise an error in 0.24. You should leave random_state to its default (None), or set shuffle=True.\n",
      "  FutureWarning\n"
     ]
    },
    {
     "ename": "KeyboardInterrupt",
     "evalue": "",
     "output_type": "error",
     "traceback": [
      "\u001b[0;31m---------------------------------------------------------------------------\u001b[0m",
      "\u001b[0;31mKeyboardInterrupt\u001b[0m                         Traceback (most recent call last)",
      "\u001b[0;32m<ipython-input-6-a52af2755eb5>\u001b[0m in \u001b[0;36m<module>\u001b[0;34m\u001b[0m\n\u001b[1;32m     29\u001b[0m   \u001b[0;31m#lr.fit(X,y)\u001b[0m\u001b[0;34m\u001b[0m\u001b[0;34m\u001b[0m\u001b[0;34m\u001b[0m\u001b[0m\n\u001b[1;32m     30\u001b[0m     \u001b[0mkfold\u001b[0m \u001b[0;34m=\u001b[0m \u001b[0mKFold\u001b[0m\u001b[0;34m(\u001b[0m\u001b[0mn_splits\u001b[0m\u001b[0;34m=\u001b[0m\u001b[0;36m5\u001b[0m\u001b[0;34m,\u001b[0m \u001b[0mrandom_state\u001b[0m\u001b[0;34m=\u001b[0m\u001b[0;36m123\u001b[0m\u001b[0;34m)\u001b[0m\u001b[0;34m\u001b[0m\u001b[0;34m\u001b[0m\u001b[0m\n\u001b[0;32m---> 31\u001b[0;31m     \u001b[0mf1_scores\u001b[0m \u001b[0;34m=\u001b[0m \u001b[0mcross_val_score\u001b[0m\u001b[0;34m(\u001b[0m\u001b[0meclf\u001b[0m\u001b[0;34m,\u001b[0m\u001b[0mX_train_bal\u001b[0m\u001b[0;34m,\u001b[0m \u001b[0my_train_bal\u001b[0m\u001b[0;34m,\u001b[0m \u001b[0mcv\u001b[0m\u001b[0;34m=\u001b[0m\u001b[0;36m2\u001b[0m\u001b[0;34m,\u001b[0m \u001b[0mscoring\u001b[0m\u001b[0;34m=\u001b[0m\u001b[0;34m'f1'\u001b[0m\u001b[0;34m)\u001b[0m\u001b[0;34m\u001b[0m\u001b[0;34m\u001b[0m\u001b[0m\n\u001b[0m\u001b[1;32m     32\u001b[0m     \u001b[0;31m#roc_scores = cross_val_score(eclf, X_train_bal, y_train_bal, cv=kfold, scoring='roc_auc')\u001b[0m\u001b[0;34m\u001b[0m\u001b[0;34m\u001b[0m\u001b[0;34m\u001b[0m\u001b[0m\n\u001b[1;32m     33\u001b[0m     \u001b[0mprint\u001b[0m\u001b[0;34m(\u001b[0m\u001b[0;34m'Current selected features'\u001b[0m\u001b[0;34m,\u001b[0m \u001b[0mselected_features\u001b[0m\u001b[0;34m)\u001b[0m\u001b[0;34m\u001b[0m\u001b[0;34m\u001b[0m\u001b[0m\n",
      "\u001b[0;32m/opt/tljh/user/lib/python3.6/site-packages/sklearn/model_selection/_validation.py\u001b[0m in \u001b[0;36mcross_val_score\u001b[0;34m(estimator, X, y, groups, scoring, cv, n_jobs, verbose, fit_params, pre_dispatch, error_score)\u001b[0m\n\u001b[1;32m    388\u001b[0m                                 \u001b[0mfit_params\u001b[0m\u001b[0;34m=\u001b[0m\u001b[0mfit_params\u001b[0m\u001b[0;34m,\u001b[0m\u001b[0;34m\u001b[0m\u001b[0;34m\u001b[0m\u001b[0m\n\u001b[1;32m    389\u001b[0m                                 \u001b[0mpre_dispatch\u001b[0m\u001b[0;34m=\u001b[0m\u001b[0mpre_dispatch\u001b[0m\u001b[0;34m,\u001b[0m\u001b[0;34m\u001b[0m\u001b[0;34m\u001b[0m\u001b[0m\n\u001b[0;32m--> 390\u001b[0;31m                                 error_score=error_score)\n\u001b[0m\u001b[1;32m    391\u001b[0m     \u001b[0;32mreturn\u001b[0m \u001b[0mcv_results\u001b[0m\u001b[0;34m[\u001b[0m\u001b[0;34m'test_score'\u001b[0m\u001b[0;34m]\u001b[0m\u001b[0;34m\u001b[0m\u001b[0;34m\u001b[0m\u001b[0m\n\u001b[1;32m    392\u001b[0m \u001b[0;34m\u001b[0m\u001b[0m\n",
      "\u001b[0;32m/opt/tljh/user/lib/python3.6/site-packages/sklearn/model_selection/_validation.py\u001b[0m in \u001b[0;36mcross_validate\u001b[0;34m(estimator, X, y, groups, scoring, cv, n_jobs, verbose, fit_params, pre_dispatch, return_train_score, return_estimator, error_score)\u001b[0m\n\u001b[1;32m    234\u001b[0m             \u001b[0mreturn_times\u001b[0m\u001b[0;34m=\u001b[0m\u001b[0;32mTrue\u001b[0m\u001b[0;34m,\u001b[0m \u001b[0mreturn_estimator\u001b[0m\u001b[0;34m=\u001b[0m\u001b[0mreturn_estimator\u001b[0m\u001b[0;34m,\u001b[0m\u001b[0;34m\u001b[0m\u001b[0;34m\u001b[0m\u001b[0m\n\u001b[1;32m    235\u001b[0m             error_score=error_score)\n\u001b[0;32m--> 236\u001b[0;31m         for train, test in cv.split(X, y, groups))\n\u001b[0m\u001b[1;32m    237\u001b[0m \u001b[0;34m\u001b[0m\u001b[0m\n\u001b[1;32m    238\u001b[0m     \u001b[0mzipped_scores\u001b[0m \u001b[0;34m=\u001b[0m \u001b[0mlist\u001b[0m\u001b[0;34m(\u001b[0m\u001b[0mzip\u001b[0m\u001b[0;34m(\u001b[0m\u001b[0;34m*\u001b[0m\u001b[0mscores\u001b[0m\u001b[0;34m)\u001b[0m\u001b[0;34m)\u001b[0m\u001b[0;34m\u001b[0m\u001b[0;34m\u001b[0m\u001b[0m\n",
      "\u001b[0;32m/opt/tljh/user/lib/python3.6/site-packages/joblib/parallel.py\u001b[0m in \u001b[0;36m__call__\u001b[0;34m(self, iterable)\u001b[0m\n\u001b[1;32m   1005\u001b[0m                 \u001b[0mself\u001b[0m\u001b[0;34m.\u001b[0m\u001b[0m_iterating\u001b[0m \u001b[0;34m=\u001b[0m \u001b[0mself\u001b[0m\u001b[0;34m.\u001b[0m\u001b[0m_original_iterator\u001b[0m \u001b[0;32mis\u001b[0m \u001b[0;32mnot\u001b[0m \u001b[0;32mNone\u001b[0m\u001b[0;34m\u001b[0m\u001b[0;34m\u001b[0m\u001b[0m\n\u001b[1;32m   1006\u001b[0m \u001b[0;34m\u001b[0m\u001b[0m\n\u001b[0;32m-> 1007\u001b[0;31m             \u001b[0;32mwhile\u001b[0m \u001b[0mself\u001b[0m\u001b[0;34m.\u001b[0m\u001b[0mdispatch_one_batch\u001b[0m\u001b[0;34m(\u001b[0m\u001b[0miterator\u001b[0m\u001b[0;34m)\u001b[0m\u001b[0;34m:\u001b[0m\u001b[0;34m\u001b[0m\u001b[0;34m\u001b[0m\u001b[0m\n\u001b[0m\u001b[1;32m   1008\u001b[0m                 \u001b[0;32mpass\u001b[0m\u001b[0;34m\u001b[0m\u001b[0;34m\u001b[0m\u001b[0m\n\u001b[1;32m   1009\u001b[0m \u001b[0;34m\u001b[0m\u001b[0m\n",
      "\u001b[0;32m/opt/tljh/user/lib/python3.6/site-packages/joblib/parallel.py\u001b[0m in \u001b[0;36mdispatch_one_batch\u001b[0;34m(self, iterator)\u001b[0m\n\u001b[1;32m    833\u001b[0m                 \u001b[0;32mreturn\u001b[0m \u001b[0;32mFalse\u001b[0m\u001b[0;34m\u001b[0m\u001b[0;34m\u001b[0m\u001b[0m\n\u001b[1;32m    834\u001b[0m             \u001b[0;32melse\u001b[0m\u001b[0;34m:\u001b[0m\u001b[0;34m\u001b[0m\u001b[0;34m\u001b[0m\u001b[0m\n\u001b[0;32m--> 835\u001b[0;31m                 \u001b[0mself\u001b[0m\u001b[0;34m.\u001b[0m\u001b[0m_dispatch\u001b[0m\u001b[0;34m(\u001b[0m\u001b[0mtasks\u001b[0m\u001b[0;34m)\u001b[0m\u001b[0;34m\u001b[0m\u001b[0;34m\u001b[0m\u001b[0m\n\u001b[0m\u001b[1;32m    836\u001b[0m                 \u001b[0;32mreturn\u001b[0m \u001b[0;32mTrue\u001b[0m\u001b[0;34m\u001b[0m\u001b[0;34m\u001b[0m\u001b[0m\n\u001b[1;32m    837\u001b[0m \u001b[0;34m\u001b[0m\u001b[0m\n",
      "\u001b[0;32m/opt/tljh/user/lib/python3.6/site-packages/joblib/parallel.py\u001b[0m in \u001b[0;36m_dispatch\u001b[0;34m(self, batch)\u001b[0m\n\u001b[1;32m    752\u001b[0m         \u001b[0;32mwith\u001b[0m \u001b[0mself\u001b[0m\u001b[0;34m.\u001b[0m\u001b[0m_lock\u001b[0m\u001b[0;34m:\u001b[0m\u001b[0;34m\u001b[0m\u001b[0;34m\u001b[0m\u001b[0m\n\u001b[1;32m    753\u001b[0m             \u001b[0mjob_idx\u001b[0m \u001b[0;34m=\u001b[0m \u001b[0mlen\u001b[0m\u001b[0;34m(\u001b[0m\u001b[0mself\u001b[0m\u001b[0;34m.\u001b[0m\u001b[0m_jobs\u001b[0m\u001b[0;34m)\u001b[0m\u001b[0;34m\u001b[0m\u001b[0;34m\u001b[0m\u001b[0m\n\u001b[0;32m--> 754\u001b[0;31m             \u001b[0mjob\u001b[0m \u001b[0;34m=\u001b[0m \u001b[0mself\u001b[0m\u001b[0;34m.\u001b[0m\u001b[0m_backend\u001b[0m\u001b[0;34m.\u001b[0m\u001b[0mapply_async\u001b[0m\u001b[0;34m(\u001b[0m\u001b[0mbatch\u001b[0m\u001b[0;34m,\u001b[0m \u001b[0mcallback\u001b[0m\u001b[0;34m=\u001b[0m\u001b[0mcb\u001b[0m\u001b[0;34m)\u001b[0m\u001b[0;34m\u001b[0m\u001b[0;34m\u001b[0m\u001b[0m\n\u001b[0m\u001b[1;32m    755\u001b[0m             \u001b[0;31m# A job can complete so quickly than its callback is\u001b[0m\u001b[0;34m\u001b[0m\u001b[0;34m\u001b[0m\u001b[0;34m\u001b[0m\u001b[0m\n\u001b[1;32m    756\u001b[0m             \u001b[0;31m# called before we get here, causing self._jobs to\u001b[0m\u001b[0;34m\u001b[0m\u001b[0;34m\u001b[0m\u001b[0;34m\u001b[0m\u001b[0m\n",
      "\u001b[0;32m/opt/tljh/user/lib/python3.6/site-packages/joblib/_parallel_backends.py\u001b[0m in \u001b[0;36mapply_async\u001b[0;34m(self, func, callback)\u001b[0m\n\u001b[1;32m    207\u001b[0m     \u001b[0;32mdef\u001b[0m \u001b[0mapply_async\u001b[0m\u001b[0;34m(\u001b[0m\u001b[0mself\u001b[0m\u001b[0;34m,\u001b[0m \u001b[0mfunc\u001b[0m\u001b[0;34m,\u001b[0m \u001b[0mcallback\u001b[0m\u001b[0;34m=\u001b[0m\u001b[0;32mNone\u001b[0m\u001b[0;34m)\u001b[0m\u001b[0;34m:\u001b[0m\u001b[0;34m\u001b[0m\u001b[0;34m\u001b[0m\u001b[0m\n\u001b[1;32m    208\u001b[0m         \u001b[0;34m\"\"\"Schedule a func to be run\"\"\"\u001b[0m\u001b[0;34m\u001b[0m\u001b[0;34m\u001b[0m\u001b[0m\n\u001b[0;32m--> 209\u001b[0;31m         \u001b[0mresult\u001b[0m \u001b[0;34m=\u001b[0m \u001b[0mImmediateResult\u001b[0m\u001b[0;34m(\u001b[0m\u001b[0mfunc\u001b[0m\u001b[0;34m)\u001b[0m\u001b[0;34m\u001b[0m\u001b[0;34m\u001b[0m\u001b[0m\n\u001b[0m\u001b[1;32m    210\u001b[0m         \u001b[0;32mif\u001b[0m \u001b[0mcallback\u001b[0m\u001b[0;34m:\u001b[0m\u001b[0;34m\u001b[0m\u001b[0;34m\u001b[0m\u001b[0m\n\u001b[1;32m    211\u001b[0m             \u001b[0mcallback\u001b[0m\u001b[0;34m(\u001b[0m\u001b[0mresult\u001b[0m\u001b[0;34m)\u001b[0m\u001b[0;34m\u001b[0m\u001b[0;34m\u001b[0m\u001b[0m\n",
      "\u001b[0;32m/opt/tljh/user/lib/python3.6/site-packages/joblib/_parallel_backends.py\u001b[0m in \u001b[0;36m__init__\u001b[0;34m(self, batch)\u001b[0m\n\u001b[1;32m    588\u001b[0m         \u001b[0;31m# Don't delay the application, to avoid keeping the input\u001b[0m\u001b[0;34m\u001b[0m\u001b[0;34m\u001b[0m\u001b[0;34m\u001b[0m\u001b[0m\n\u001b[1;32m    589\u001b[0m         \u001b[0;31m# arguments in memory\u001b[0m\u001b[0;34m\u001b[0m\u001b[0;34m\u001b[0m\u001b[0;34m\u001b[0m\u001b[0m\n\u001b[0;32m--> 590\u001b[0;31m         \u001b[0mself\u001b[0m\u001b[0;34m.\u001b[0m\u001b[0mresults\u001b[0m \u001b[0;34m=\u001b[0m \u001b[0mbatch\u001b[0m\u001b[0;34m(\u001b[0m\u001b[0;34m)\u001b[0m\u001b[0;34m\u001b[0m\u001b[0;34m\u001b[0m\u001b[0m\n\u001b[0m\u001b[1;32m    591\u001b[0m \u001b[0;34m\u001b[0m\u001b[0m\n\u001b[1;32m    592\u001b[0m     \u001b[0;32mdef\u001b[0m \u001b[0mget\u001b[0m\u001b[0;34m(\u001b[0m\u001b[0mself\u001b[0m\u001b[0;34m)\u001b[0m\u001b[0;34m:\u001b[0m\u001b[0;34m\u001b[0m\u001b[0;34m\u001b[0m\u001b[0m\n",
      "\u001b[0;32m/opt/tljh/user/lib/python3.6/site-packages/joblib/parallel.py\u001b[0m in \u001b[0;36m__call__\u001b[0;34m(self)\u001b[0m\n\u001b[1;32m    254\u001b[0m         \u001b[0;32mwith\u001b[0m \u001b[0mparallel_backend\u001b[0m\u001b[0;34m(\u001b[0m\u001b[0mself\u001b[0m\u001b[0;34m.\u001b[0m\u001b[0m_backend\u001b[0m\u001b[0;34m,\u001b[0m \u001b[0mn_jobs\u001b[0m\u001b[0;34m=\u001b[0m\u001b[0mself\u001b[0m\u001b[0;34m.\u001b[0m\u001b[0m_n_jobs\u001b[0m\u001b[0;34m)\u001b[0m\u001b[0;34m:\u001b[0m\u001b[0;34m\u001b[0m\u001b[0;34m\u001b[0m\u001b[0m\n\u001b[1;32m    255\u001b[0m             return [func(*args, **kwargs)\n\u001b[0;32m--> 256\u001b[0;31m                     for func, args, kwargs in self.items]\n\u001b[0m\u001b[1;32m    257\u001b[0m \u001b[0;34m\u001b[0m\u001b[0m\n\u001b[1;32m    258\u001b[0m     \u001b[0;32mdef\u001b[0m \u001b[0m__len__\u001b[0m\u001b[0;34m(\u001b[0m\u001b[0mself\u001b[0m\u001b[0;34m)\u001b[0m\u001b[0;34m:\u001b[0m\u001b[0;34m\u001b[0m\u001b[0;34m\u001b[0m\u001b[0m\n",
      "\u001b[0;32m/opt/tljh/user/lib/python3.6/site-packages/joblib/parallel.py\u001b[0m in \u001b[0;36m<listcomp>\u001b[0;34m(.0)\u001b[0m\n\u001b[1;32m    254\u001b[0m         \u001b[0;32mwith\u001b[0m \u001b[0mparallel_backend\u001b[0m\u001b[0;34m(\u001b[0m\u001b[0mself\u001b[0m\u001b[0;34m.\u001b[0m\u001b[0m_backend\u001b[0m\u001b[0;34m,\u001b[0m \u001b[0mn_jobs\u001b[0m\u001b[0;34m=\u001b[0m\u001b[0mself\u001b[0m\u001b[0;34m.\u001b[0m\u001b[0m_n_jobs\u001b[0m\u001b[0;34m)\u001b[0m\u001b[0;34m:\u001b[0m\u001b[0;34m\u001b[0m\u001b[0;34m\u001b[0m\u001b[0m\n\u001b[1;32m    255\u001b[0m             return [func(*args, **kwargs)\n\u001b[0;32m--> 256\u001b[0;31m                     for func, args, kwargs in self.items]\n\u001b[0m\u001b[1;32m    257\u001b[0m \u001b[0;34m\u001b[0m\u001b[0m\n\u001b[1;32m    258\u001b[0m     \u001b[0;32mdef\u001b[0m \u001b[0m__len__\u001b[0m\u001b[0;34m(\u001b[0m\u001b[0mself\u001b[0m\u001b[0;34m)\u001b[0m\u001b[0;34m:\u001b[0m\u001b[0;34m\u001b[0m\u001b[0;34m\u001b[0m\u001b[0m\n",
      "\u001b[0;32m/opt/tljh/user/lib/python3.6/site-packages/sklearn/model_selection/_validation.py\u001b[0m in \u001b[0;36m_fit_and_score\u001b[0;34m(estimator, X, y, scorer, train, test, verbose, parameters, fit_params, return_train_score, return_parameters, return_n_test_samples, return_times, return_estimator, error_score)\u001b[0m\n\u001b[1;32m    513\u001b[0m             \u001b[0mestimator\u001b[0m\u001b[0;34m.\u001b[0m\u001b[0mfit\u001b[0m\u001b[0;34m(\u001b[0m\u001b[0mX_train\u001b[0m\u001b[0;34m,\u001b[0m \u001b[0;34m**\u001b[0m\u001b[0mfit_params\u001b[0m\u001b[0;34m)\u001b[0m\u001b[0;34m\u001b[0m\u001b[0;34m\u001b[0m\u001b[0m\n\u001b[1;32m    514\u001b[0m         \u001b[0;32melse\u001b[0m\u001b[0;34m:\u001b[0m\u001b[0;34m\u001b[0m\u001b[0;34m\u001b[0m\u001b[0m\n\u001b[0;32m--> 515\u001b[0;31m             \u001b[0mestimator\u001b[0m\u001b[0;34m.\u001b[0m\u001b[0mfit\u001b[0m\u001b[0;34m(\u001b[0m\u001b[0mX_train\u001b[0m\u001b[0;34m,\u001b[0m \u001b[0my_train\u001b[0m\u001b[0;34m,\u001b[0m \u001b[0;34m**\u001b[0m\u001b[0mfit_params\u001b[0m\u001b[0;34m)\u001b[0m\u001b[0;34m\u001b[0m\u001b[0;34m\u001b[0m\u001b[0m\n\u001b[0m\u001b[1;32m    516\u001b[0m \u001b[0;34m\u001b[0m\u001b[0m\n\u001b[1;32m    517\u001b[0m     \u001b[0;32mexcept\u001b[0m \u001b[0mException\u001b[0m \u001b[0;32mas\u001b[0m \u001b[0me\u001b[0m\u001b[0;34m:\u001b[0m\u001b[0;34m\u001b[0m\u001b[0;34m\u001b[0m\u001b[0m\n",
      "\u001b[0;32m/opt/tljh/user/lib/python3.6/site-packages/sklearn/ensemble/_voting.py\u001b[0m in \u001b[0;36mfit\u001b[0;34m(self, X, y, sample_weight)\u001b[0m\n\u001b[1;32m    220\u001b[0m         \u001b[0mtransformed_y\u001b[0m \u001b[0;34m=\u001b[0m \u001b[0mself\u001b[0m\u001b[0;34m.\u001b[0m\u001b[0mle_\u001b[0m\u001b[0;34m.\u001b[0m\u001b[0mtransform\u001b[0m\u001b[0;34m(\u001b[0m\u001b[0my\u001b[0m\u001b[0;34m)\u001b[0m\u001b[0;34m\u001b[0m\u001b[0;34m\u001b[0m\u001b[0m\n\u001b[1;32m    221\u001b[0m \u001b[0;34m\u001b[0m\u001b[0m\n\u001b[0;32m--> 222\u001b[0;31m         \u001b[0;32mreturn\u001b[0m \u001b[0msuper\u001b[0m\u001b[0;34m(\u001b[0m\u001b[0;34m)\u001b[0m\u001b[0;34m.\u001b[0m\u001b[0mfit\u001b[0m\u001b[0;34m(\u001b[0m\u001b[0mX\u001b[0m\u001b[0;34m,\u001b[0m \u001b[0mtransformed_y\u001b[0m\u001b[0;34m,\u001b[0m \u001b[0msample_weight\u001b[0m\u001b[0;34m)\u001b[0m\u001b[0;34m\u001b[0m\u001b[0;34m\u001b[0m\u001b[0m\n\u001b[0m\u001b[1;32m    223\u001b[0m \u001b[0;34m\u001b[0m\u001b[0m\n\u001b[1;32m    224\u001b[0m     \u001b[0;32mdef\u001b[0m \u001b[0mpredict\u001b[0m\u001b[0;34m(\u001b[0m\u001b[0mself\u001b[0m\u001b[0;34m,\u001b[0m \u001b[0mX\u001b[0m\u001b[0;34m)\u001b[0m\u001b[0;34m:\u001b[0m\u001b[0;34m\u001b[0m\u001b[0;34m\u001b[0m\u001b[0m\n",
      "\u001b[0;32m/opt/tljh/user/lib/python3.6/site-packages/sklearn/ensemble/_voting.py\u001b[0m in \u001b[0;36mfit\u001b[0;34m(self, X, y, sample_weight)\u001b[0m\n\u001b[1;32m     66\u001b[0m                 delayed(_parallel_fit_estimator)(clone(clf), X, y,\n\u001b[1;32m     67\u001b[0m                                                  sample_weight=sample_weight)\n\u001b[0;32m---> 68\u001b[0;31m                 \u001b[0;32mfor\u001b[0m \u001b[0mclf\u001b[0m \u001b[0;32min\u001b[0m \u001b[0mclfs\u001b[0m \u001b[0;32mif\u001b[0m \u001b[0mclf\u001b[0m \u001b[0;32mnot\u001b[0m \u001b[0;32min\u001b[0m \u001b[0;34m(\u001b[0m\u001b[0;32mNone\u001b[0m\u001b[0;34m,\u001b[0m \u001b[0;34m'drop'\u001b[0m\u001b[0;34m)\u001b[0m\u001b[0;34m\u001b[0m\u001b[0;34m\u001b[0m\u001b[0m\n\u001b[0m\u001b[1;32m     69\u001b[0m             )\n\u001b[1;32m     70\u001b[0m \u001b[0;34m\u001b[0m\u001b[0m\n",
      "\u001b[0;32m/opt/tljh/user/lib/python3.6/site-packages/joblib/parallel.py\u001b[0m in \u001b[0;36m__call__\u001b[0;34m(self, iterable)\u001b[0m\n\u001b[1;32m   1002\u001b[0m             \u001b[0;31m# remaining jobs.\u001b[0m\u001b[0;34m\u001b[0m\u001b[0;34m\u001b[0m\u001b[0;34m\u001b[0m\u001b[0m\n\u001b[1;32m   1003\u001b[0m             \u001b[0mself\u001b[0m\u001b[0;34m.\u001b[0m\u001b[0m_iterating\u001b[0m \u001b[0;34m=\u001b[0m \u001b[0;32mFalse\u001b[0m\u001b[0;34m\u001b[0m\u001b[0;34m\u001b[0m\u001b[0m\n\u001b[0;32m-> 1004\u001b[0;31m             \u001b[0;32mif\u001b[0m \u001b[0mself\u001b[0m\u001b[0;34m.\u001b[0m\u001b[0mdispatch_one_batch\u001b[0m\u001b[0;34m(\u001b[0m\u001b[0miterator\u001b[0m\u001b[0;34m)\u001b[0m\u001b[0;34m:\u001b[0m\u001b[0;34m\u001b[0m\u001b[0;34m\u001b[0m\u001b[0m\n\u001b[0m\u001b[1;32m   1005\u001b[0m                 \u001b[0mself\u001b[0m\u001b[0;34m.\u001b[0m\u001b[0m_iterating\u001b[0m \u001b[0;34m=\u001b[0m \u001b[0mself\u001b[0m\u001b[0;34m.\u001b[0m\u001b[0m_original_iterator\u001b[0m \u001b[0;32mis\u001b[0m \u001b[0;32mnot\u001b[0m \u001b[0;32mNone\u001b[0m\u001b[0;34m\u001b[0m\u001b[0;34m\u001b[0m\u001b[0m\n\u001b[1;32m   1006\u001b[0m \u001b[0;34m\u001b[0m\u001b[0m\n",
      "\u001b[0;32m/opt/tljh/user/lib/python3.6/site-packages/joblib/parallel.py\u001b[0m in \u001b[0;36mdispatch_one_batch\u001b[0;34m(self, iterator)\u001b[0m\n\u001b[1;32m    833\u001b[0m                 \u001b[0;32mreturn\u001b[0m \u001b[0;32mFalse\u001b[0m\u001b[0;34m\u001b[0m\u001b[0;34m\u001b[0m\u001b[0m\n\u001b[1;32m    834\u001b[0m             \u001b[0;32melse\u001b[0m\u001b[0;34m:\u001b[0m\u001b[0;34m\u001b[0m\u001b[0;34m\u001b[0m\u001b[0m\n\u001b[0;32m--> 835\u001b[0;31m                 \u001b[0mself\u001b[0m\u001b[0;34m.\u001b[0m\u001b[0m_dispatch\u001b[0m\u001b[0;34m(\u001b[0m\u001b[0mtasks\u001b[0m\u001b[0;34m)\u001b[0m\u001b[0;34m\u001b[0m\u001b[0;34m\u001b[0m\u001b[0m\n\u001b[0m\u001b[1;32m    836\u001b[0m                 \u001b[0;32mreturn\u001b[0m \u001b[0;32mTrue\u001b[0m\u001b[0;34m\u001b[0m\u001b[0;34m\u001b[0m\u001b[0m\n\u001b[1;32m    837\u001b[0m \u001b[0;34m\u001b[0m\u001b[0m\n",
      "\u001b[0;32m/opt/tljh/user/lib/python3.6/site-packages/joblib/parallel.py\u001b[0m in \u001b[0;36m_dispatch\u001b[0;34m(self, batch)\u001b[0m\n\u001b[1;32m    752\u001b[0m         \u001b[0;32mwith\u001b[0m \u001b[0mself\u001b[0m\u001b[0;34m.\u001b[0m\u001b[0m_lock\u001b[0m\u001b[0;34m:\u001b[0m\u001b[0;34m\u001b[0m\u001b[0;34m\u001b[0m\u001b[0m\n\u001b[1;32m    753\u001b[0m             \u001b[0mjob_idx\u001b[0m \u001b[0;34m=\u001b[0m \u001b[0mlen\u001b[0m\u001b[0;34m(\u001b[0m\u001b[0mself\u001b[0m\u001b[0;34m.\u001b[0m\u001b[0m_jobs\u001b[0m\u001b[0;34m)\u001b[0m\u001b[0;34m\u001b[0m\u001b[0;34m\u001b[0m\u001b[0m\n\u001b[0;32m--> 754\u001b[0;31m             \u001b[0mjob\u001b[0m \u001b[0;34m=\u001b[0m \u001b[0mself\u001b[0m\u001b[0;34m.\u001b[0m\u001b[0m_backend\u001b[0m\u001b[0;34m.\u001b[0m\u001b[0mapply_async\u001b[0m\u001b[0;34m(\u001b[0m\u001b[0mbatch\u001b[0m\u001b[0;34m,\u001b[0m \u001b[0mcallback\u001b[0m\u001b[0;34m=\u001b[0m\u001b[0mcb\u001b[0m\u001b[0;34m)\u001b[0m\u001b[0;34m\u001b[0m\u001b[0;34m\u001b[0m\u001b[0m\n\u001b[0m\u001b[1;32m    755\u001b[0m             \u001b[0;31m# A job can complete so quickly than its callback is\u001b[0m\u001b[0;34m\u001b[0m\u001b[0;34m\u001b[0m\u001b[0;34m\u001b[0m\u001b[0m\n\u001b[1;32m    756\u001b[0m             \u001b[0;31m# called before we get here, causing self._jobs to\u001b[0m\u001b[0;34m\u001b[0m\u001b[0;34m\u001b[0m\u001b[0;34m\u001b[0m\u001b[0m\n",
      "\u001b[0;32m/opt/tljh/user/lib/python3.6/site-packages/joblib/_parallel_backends.py\u001b[0m in \u001b[0;36mapply_async\u001b[0;34m(self, func, callback)\u001b[0m\n\u001b[1;32m    207\u001b[0m     \u001b[0;32mdef\u001b[0m \u001b[0mapply_async\u001b[0m\u001b[0;34m(\u001b[0m\u001b[0mself\u001b[0m\u001b[0;34m,\u001b[0m \u001b[0mfunc\u001b[0m\u001b[0;34m,\u001b[0m \u001b[0mcallback\u001b[0m\u001b[0;34m=\u001b[0m\u001b[0;32mNone\u001b[0m\u001b[0;34m)\u001b[0m\u001b[0;34m:\u001b[0m\u001b[0;34m\u001b[0m\u001b[0;34m\u001b[0m\u001b[0m\n\u001b[1;32m    208\u001b[0m         \u001b[0;34m\"\"\"Schedule a func to be run\"\"\"\u001b[0m\u001b[0;34m\u001b[0m\u001b[0;34m\u001b[0m\u001b[0m\n\u001b[0;32m--> 209\u001b[0;31m         \u001b[0mresult\u001b[0m \u001b[0;34m=\u001b[0m \u001b[0mImmediateResult\u001b[0m\u001b[0;34m(\u001b[0m\u001b[0mfunc\u001b[0m\u001b[0;34m)\u001b[0m\u001b[0;34m\u001b[0m\u001b[0;34m\u001b[0m\u001b[0m\n\u001b[0m\u001b[1;32m    210\u001b[0m         \u001b[0;32mif\u001b[0m \u001b[0mcallback\u001b[0m\u001b[0;34m:\u001b[0m\u001b[0;34m\u001b[0m\u001b[0;34m\u001b[0m\u001b[0m\n\u001b[1;32m    211\u001b[0m             \u001b[0mcallback\u001b[0m\u001b[0;34m(\u001b[0m\u001b[0mresult\u001b[0m\u001b[0;34m)\u001b[0m\u001b[0;34m\u001b[0m\u001b[0;34m\u001b[0m\u001b[0m\n",
      "\u001b[0;32m/opt/tljh/user/lib/python3.6/site-packages/joblib/_parallel_backends.py\u001b[0m in \u001b[0;36m__init__\u001b[0;34m(self, batch)\u001b[0m\n\u001b[1;32m    588\u001b[0m         \u001b[0;31m# Don't delay the application, to avoid keeping the input\u001b[0m\u001b[0;34m\u001b[0m\u001b[0;34m\u001b[0m\u001b[0;34m\u001b[0m\u001b[0m\n\u001b[1;32m    589\u001b[0m         \u001b[0;31m# arguments in memory\u001b[0m\u001b[0;34m\u001b[0m\u001b[0;34m\u001b[0m\u001b[0;34m\u001b[0m\u001b[0m\n\u001b[0;32m--> 590\u001b[0;31m         \u001b[0mself\u001b[0m\u001b[0;34m.\u001b[0m\u001b[0mresults\u001b[0m \u001b[0;34m=\u001b[0m \u001b[0mbatch\u001b[0m\u001b[0;34m(\u001b[0m\u001b[0;34m)\u001b[0m\u001b[0;34m\u001b[0m\u001b[0;34m\u001b[0m\u001b[0m\n\u001b[0m\u001b[1;32m    591\u001b[0m \u001b[0;34m\u001b[0m\u001b[0m\n\u001b[1;32m    592\u001b[0m     \u001b[0;32mdef\u001b[0m \u001b[0mget\u001b[0m\u001b[0;34m(\u001b[0m\u001b[0mself\u001b[0m\u001b[0;34m)\u001b[0m\u001b[0;34m:\u001b[0m\u001b[0;34m\u001b[0m\u001b[0;34m\u001b[0m\u001b[0m\n",
      "\u001b[0;32m/opt/tljh/user/lib/python3.6/site-packages/joblib/parallel.py\u001b[0m in \u001b[0;36m__call__\u001b[0;34m(self)\u001b[0m\n\u001b[1;32m    254\u001b[0m         \u001b[0;32mwith\u001b[0m \u001b[0mparallel_backend\u001b[0m\u001b[0;34m(\u001b[0m\u001b[0mself\u001b[0m\u001b[0;34m.\u001b[0m\u001b[0m_backend\u001b[0m\u001b[0;34m,\u001b[0m \u001b[0mn_jobs\u001b[0m\u001b[0;34m=\u001b[0m\u001b[0mself\u001b[0m\u001b[0;34m.\u001b[0m\u001b[0m_n_jobs\u001b[0m\u001b[0;34m)\u001b[0m\u001b[0;34m:\u001b[0m\u001b[0;34m\u001b[0m\u001b[0;34m\u001b[0m\u001b[0m\n\u001b[1;32m    255\u001b[0m             return [func(*args, **kwargs)\n\u001b[0;32m--> 256\u001b[0;31m                     for func, args, kwargs in self.items]\n\u001b[0m\u001b[1;32m    257\u001b[0m \u001b[0;34m\u001b[0m\u001b[0m\n\u001b[1;32m    258\u001b[0m     \u001b[0;32mdef\u001b[0m \u001b[0m__len__\u001b[0m\u001b[0;34m(\u001b[0m\u001b[0mself\u001b[0m\u001b[0;34m)\u001b[0m\u001b[0;34m:\u001b[0m\u001b[0;34m\u001b[0m\u001b[0;34m\u001b[0m\u001b[0m\n",
      "\u001b[0;32m/opt/tljh/user/lib/python3.6/site-packages/joblib/parallel.py\u001b[0m in \u001b[0;36m<listcomp>\u001b[0;34m(.0)\u001b[0m\n\u001b[1;32m    254\u001b[0m         \u001b[0;32mwith\u001b[0m \u001b[0mparallel_backend\u001b[0m\u001b[0;34m(\u001b[0m\u001b[0mself\u001b[0m\u001b[0;34m.\u001b[0m\u001b[0m_backend\u001b[0m\u001b[0;34m,\u001b[0m \u001b[0mn_jobs\u001b[0m\u001b[0;34m=\u001b[0m\u001b[0mself\u001b[0m\u001b[0;34m.\u001b[0m\u001b[0m_n_jobs\u001b[0m\u001b[0;34m)\u001b[0m\u001b[0;34m:\u001b[0m\u001b[0;34m\u001b[0m\u001b[0;34m\u001b[0m\u001b[0m\n\u001b[1;32m    255\u001b[0m             return [func(*args, **kwargs)\n\u001b[0;32m--> 256\u001b[0;31m                     for func, args, kwargs in self.items]\n\u001b[0m\u001b[1;32m    257\u001b[0m \u001b[0;34m\u001b[0m\u001b[0m\n\u001b[1;32m    258\u001b[0m     \u001b[0;32mdef\u001b[0m \u001b[0m__len__\u001b[0m\u001b[0;34m(\u001b[0m\u001b[0mself\u001b[0m\u001b[0;34m)\u001b[0m\u001b[0;34m:\u001b[0m\u001b[0;34m\u001b[0m\u001b[0;34m\u001b[0m\u001b[0m\n",
      "\u001b[0;32m/opt/tljh/user/lib/python3.6/site-packages/sklearn/ensemble/_base.py\u001b[0m in \u001b[0;36m_parallel_fit_estimator\u001b[0;34m(estimator, X, y, sample_weight)\u001b[0m\n\u001b[1;32m     34\u001b[0m             \u001b[0;32mraise\u001b[0m\u001b[0;34m\u001b[0m\u001b[0;34m\u001b[0m\u001b[0m\n\u001b[1;32m     35\u001b[0m     \u001b[0;32melse\u001b[0m\u001b[0;34m:\u001b[0m\u001b[0;34m\u001b[0m\u001b[0;34m\u001b[0m\u001b[0m\n\u001b[0;32m---> 36\u001b[0;31m         \u001b[0mestimator\u001b[0m\u001b[0;34m.\u001b[0m\u001b[0mfit\u001b[0m\u001b[0;34m(\u001b[0m\u001b[0mX\u001b[0m\u001b[0;34m,\u001b[0m \u001b[0my\u001b[0m\u001b[0;34m)\u001b[0m\u001b[0;34m\u001b[0m\u001b[0;34m\u001b[0m\u001b[0m\n\u001b[0m\u001b[1;32m     37\u001b[0m     \u001b[0;32mreturn\u001b[0m \u001b[0mestimator\u001b[0m\u001b[0;34m\u001b[0m\u001b[0;34m\u001b[0m\u001b[0m\n\u001b[1;32m     38\u001b[0m \u001b[0;34m\u001b[0m\u001b[0m\n",
      "\u001b[0;32m/opt/tljh/user/lib/python3.6/site-packages/sklearn/ensemble/_gb.py\u001b[0m in \u001b[0;36mfit\u001b[0;34m(self, X, y, sample_weight, monitor)\u001b[0m\n\u001b[1;32m   1535\u001b[0m         n_stages = self._fit_stages(\n\u001b[1;32m   1536\u001b[0m             \u001b[0mX\u001b[0m\u001b[0;34m,\u001b[0m \u001b[0my\u001b[0m\u001b[0;34m,\u001b[0m \u001b[0mraw_predictions\u001b[0m\u001b[0;34m,\u001b[0m \u001b[0msample_weight\u001b[0m\u001b[0;34m,\u001b[0m \u001b[0mself\u001b[0m\u001b[0;34m.\u001b[0m\u001b[0m_rng\u001b[0m\u001b[0;34m,\u001b[0m \u001b[0mX_val\u001b[0m\u001b[0;34m,\u001b[0m \u001b[0my_val\u001b[0m\u001b[0;34m,\u001b[0m\u001b[0;34m\u001b[0m\u001b[0;34m\u001b[0m\u001b[0m\n\u001b[0;32m-> 1537\u001b[0;31m             sample_weight_val, begin_at_stage, monitor, X_idx_sorted)\n\u001b[0m\u001b[1;32m   1538\u001b[0m \u001b[0;34m\u001b[0m\u001b[0m\n\u001b[1;32m   1539\u001b[0m         \u001b[0;31m# change shape of arrays after fit (early-stopping or additional ests)\u001b[0m\u001b[0;34m\u001b[0m\u001b[0;34m\u001b[0m\u001b[0;34m\u001b[0m\u001b[0m\n",
      "\u001b[0;32m/opt/tljh/user/lib/python3.6/site-packages/sklearn/ensemble/_gb.py\u001b[0m in \u001b[0;36m_fit_stages\u001b[0;34m(self, X, y, raw_predictions, sample_weight, random_state, X_val, y_val, sample_weight_val, begin_at_stage, monitor, X_idx_sorted)\u001b[0m\n\u001b[1;32m   1592\u001b[0m             raw_predictions = self._fit_stage(\n\u001b[1;32m   1593\u001b[0m                 \u001b[0mi\u001b[0m\u001b[0;34m,\u001b[0m \u001b[0mX\u001b[0m\u001b[0;34m,\u001b[0m \u001b[0my\u001b[0m\u001b[0;34m,\u001b[0m \u001b[0mraw_predictions\u001b[0m\u001b[0;34m,\u001b[0m \u001b[0msample_weight\u001b[0m\u001b[0;34m,\u001b[0m \u001b[0msample_mask\u001b[0m\u001b[0;34m,\u001b[0m\u001b[0;34m\u001b[0m\u001b[0;34m\u001b[0m\u001b[0m\n\u001b[0;32m-> 1594\u001b[0;31m                 random_state, X_idx_sorted, X_csc, X_csr)\n\u001b[0m\u001b[1;32m   1595\u001b[0m \u001b[0;34m\u001b[0m\u001b[0m\n\u001b[1;32m   1596\u001b[0m             \u001b[0;31m# track deviance (= loss)\u001b[0m\u001b[0;34m\u001b[0m\u001b[0;34m\u001b[0m\u001b[0;34m\u001b[0m\u001b[0m\n",
      "\u001b[0;32m/opt/tljh/user/lib/python3.6/site-packages/sklearn/ensemble/_gb.py\u001b[0m in \u001b[0;36m_fit_stage\u001b[0;34m(self, i, X, y, raw_predictions, sample_weight, sample_mask, random_state, X_idx_sorted, X_csc, X_csr)\u001b[0m\n\u001b[1;32m   1243\u001b[0m             \u001b[0mX\u001b[0m \u001b[0;34m=\u001b[0m \u001b[0mX_csr\u001b[0m \u001b[0;32mif\u001b[0m \u001b[0mX_csr\u001b[0m \u001b[0;32mis\u001b[0m \u001b[0;32mnot\u001b[0m \u001b[0;32mNone\u001b[0m \u001b[0;32melse\u001b[0m \u001b[0mX\u001b[0m\u001b[0;34m\u001b[0m\u001b[0;34m\u001b[0m\u001b[0m\n\u001b[1;32m   1244\u001b[0m             tree.fit(X, residual, sample_weight=sample_weight,\n\u001b[0;32m-> 1245\u001b[0;31m                      check_input=False, X_idx_sorted=X_idx_sorted)\n\u001b[0m\u001b[1;32m   1246\u001b[0m \u001b[0;34m\u001b[0m\u001b[0m\n\u001b[1;32m   1247\u001b[0m             \u001b[0;31m# update tree leaves\u001b[0m\u001b[0;34m\u001b[0m\u001b[0;34m\u001b[0m\u001b[0;34m\u001b[0m\u001b[0m\n",
      "\u001b[0;32m/opt/tljh/user/lib/python3.6/site-packages/sklearn/tree/_classes.py\u001b[0m in \u001b[0;36mfit\u001b[0;34m(self, X, y, sample_weight, check_input, X_idx_sorted)\u001b[0m\n\u001b[1;32m   1223\u001b[0m             \u001b[0msample_weight\u001b[0m\u001b[0;34m=\u001b[0m\u001b[0msample_weight\u001b[0m\u001b[0;34m,\u001b[0m\u001b[0;34m\u001b[0m\u001b[0;34m\u001b[0m\u001b[0m\n\u001b[1;32m   1224\u001b[0m             \u001b[0mcheck_input\u001b[0m\u001b[0;34m=\u001b[0m\u001b[0mcheck_input\u001b[0m\u001b[0;34m,\u001b[0m\u001b[0;34m\u001b[0m\u001b[0;34m\u001b[0m\u001b[0m\n\u001b[0;32m-> 1225\u001b[0;31m             X_idx_sorted=X_idx_sorted)\n\u001b[0m\u001b[1;32m   1226\u001b[0m         \u001b[0;32mreturn\u001b[0m \u001b[0mself\u001b[0m\u001b[0;34m\u001b[0m\u001b[0;34m\u001b[0m\u001b[0m\n\u001b[1;32m   1227\u001b[0m \u001b[0;34m\u001b[0m\u001b[0m\n",
      "\u001b[0;32m/opt/tljh/user/lib/python3.6/site-packages/sklearn/tree/_classes.py\u001b[0m in \u001b[0;36mfit\u001b[0;34m(self, X, y, sample_weight, check_input, X_idx_sorted)\u001b[0m\n\u001b[1;32m    365\u001b[0m                                            min_impurity_split)\n\u001b[1;32m    366\u001b[0m \u001b[0;34m\u001b[0m\u001b[0m\n\u001b[0;32m--> 367\u001b[0;31m         \u001b[0mbuilder\u001b[0m\u001b[0;34m.\u001b[0m\u001b[0mbuild\u001b[0m\u001b[0;34m(\u001b[0m\u001b[0mself\u001b[0m\u001b[0;34m.\u001b[0m\u001b[0mtree_\u001b[0m\u001b[0;34m,\u001b[0m \u001b[0mX\u001b[0m\u001b[0;34m,\u001b[0m \u001b[0my\u001b[0m\u001b[0;34m,\u001b[0m \u001b[0msample_weight\u001b[0m\u001b[0;34m,\u001b[0m \u001b[0mX_idx_sorted\u001b[0m\u001b[0;34m)\u001b[0m\u001b[0;34m\u001b[0m\u001b[0;34m\u001b[0m\u001b[0m\n\u001b[0m\u001b[1;32m    368\u001b[0m \u001b[0;34m\u001b[0m\u001b[0m\n\u001b[1;32m    369\u001b[0m         \u001b[0;32mif\u001b[0m \u001b[0mself\u001b[0m\u001b[0;34m.\u001b[0m\u001b[0mn_outputs_\u001b[0m \u001b[0;34m==\u001b[0m \u001b[0;36m1\u001b[0m \u001b[0;32mand\u001b[0m \u001b[0mis_classifier\u001b[0m\u001b[0;34m(\u001b[0m\u001b[0mself\u001b[0m\u001b[0;34m)\u001b[0m\u001b[0;34m:\u001b[0m\u001b[0;34m\u001b[0m\u001b[0;34m\u001b[0m\u001b[0m\n",
      "\u001b[0;31mKeyboardInterrupt\u001b[0m: "
     ]
    }
   ],
   "source": [
    "import numpy as np\n",
    "from scaled_data import *\n",
    "X_df,y_df = clean_data()\n",
    "\n",
    "# define the feature list to select from\n",
    "feature_lst =list(X_df.columns)\n",
    "#type(feature_lst)\n",
    "feature_lst\n",
    "np.random.shuffle(feature_lst)\n",
    "\n",
    "from sklearn.linear_model import LogisticRegression\n",
    "from sklearn.model_selection import cross_val_score, KFold\n",
    "\n",
    "selected_features = []\n",
    "eclf = VotingClassifier(estimators=[('gb', clf1), ('rf', clf2), (\"SVC\", clf3) ],voting='soft')\n",
    "\n",
    "from imblearn.over_sampling import SMOTE\n",
    "for feat in feature_lst:\n",
    "    selected_features.append(feat)\n",
    "    X_train, X_test, y_train, y_test= train_test_split(X_df,y_df, test_size=0.25, random_state=123)\n",
    "    X = X_train[selected_features].values#.ravel()\n",
    "    y = y_train.values.ravel()\n",
    "    \n",
    "\n",
    "\n",
    "\n",
    "    sm =SMOTE(k_neighbors=4,random_state=123)\n",
    "    X_train_bal, y_train_bal = sm.fit_sample(X, y)\n",
    "  #lr.fit(X,y)\n",
    "    kfold = KFold(n_splits=5, random_state=123)\n",
    "    f1_scores = cross_val_score(eclf,X_train_bal, y_train_bal, cv=2, scoring='f1')\n",
    "    #roc_scores = cross_val_score(eclf, X_train_bal, y_train_bal, cv=kfold, scoring='roc_auc')\n",
    "    print('Current selected features', selected_features)\n",
    "    print('\\n')\n",
    "    print('average f1 score (bias)', f1_scores.mean())\n",
    "    print('average f1 score (variance)', f1_scores.std())\n",
    "    #print('average AUC score (bias)', roc_scores.mean())\n",
    "    #print('average AUC score (variance)', roc_scores.std())\n",
    "    print('\\n')"
   ]
  },
  {
   "cell_type": "code",
   "execution_count": null,
   "metadata": {},
   "outputs": [],
   "source": [
    "'Browser_dummies_6', 'Browser_dummies_11', 'TrafficType_dummies_3', 'Region_dummies_2', 'Browser_dummies_5', 'Region_dummies_3', 'Browser_dummies_10', 'Browser_dummies_3', 'TrafficType_dummies_8', 'VisitorType_dummies_New_Visitor', 'OperatingSystems_dummies_6', 'Weekend_binary', 'Region_dummies_6', 'TrafficType_dummies_6', 'season_dummies_Fall', 'season_dummies_Spring', 'TrafficType_dummies_12', 'average_ProductRelated_duration_skew_s', 'TrafficType_dummies_7', 'average_BounceRates/ExitRates_skew_s'"
   ]
  },
  {
   "cell_type": "code",
   "execution_count": 6,
   "metadata": {},
   "outputs": [
    {
     "name": "stdout",
     "output_type": "stream",
     "text": [
      "Training Metrics\n",
      "Accuracy: 0.8671185573602762\n",
      "Precision: 0.8873296451221158\n",
      "Recall: 0.8410282644839494\n",
      "F1: 0.8670280428993171\n",
      "Roc -Auc Curve 0.8671185573602763\n",
      "Test Metrics\n",
      "Accuracy: 0.8705806033084658\n",
      "Precision: 0.5601783060921248\n",
      "Recall: 0.7854166666666667\n",
      "F1: 0.8789210051801009\n",
      "Roc -Auc Curve 0.8358508611858113\n",
      "Test Classification Report\n",
      "              precision    recall  f1-score   support\n",
      "\n",
      "           0       0.96      0.89      0.92      2603\n",
      "           1       0.56      0.79      0.65       480\n",
      "\n",
      "    accuracy                           0.87      3083\n",
      "   macro avg       0.76      0.84      0.79      3083\n",
      "weighted avg       0.90      0.87      0.88      3083\n",
      "\n"
     ]
    },
    {
     "data": {
      "image/png": "[encoded data removed]",
      "text/plain": [
       "<Figure size 576x396 with 1 Axes>"
      ]
     },
     "metadata": {},
     "output_type": "display_data"
    },
    {
     "data": {
      "text/plain": [
       "'y_pred_proba = eclf.predict_proba(X_test)[::,1]\\nfpr, tpr, _ = metrics.roc_curve(y_test,  y_pred_proba)\\nauc = metrics.roc_auc_score(y_test, y_pred_proba)\\nplt.plot(fpr,tpr,label=\"auc=\"+str(auc))\\nplt.legend(loc=4)\\nplt.show()'"
      ]
     },
     "execution_count": 6,
     "metadata": {},
     "output_type": "execute_result"
    }
   ],
   "source": [
    "from sklearn.metrics import accuracy_score,precision_score,recall_score ,roc_auc_score ,roc_curve, auc , precision_recall_fscore_support\n",
    "\n",
    "\n",
    "print(\"Training Metrics\")\n",
    "print(\"Accuracy:\",accuracy_score(y_train_bal,eclf_train_pred))\n",
    "print(\"Precision:\",precision_score(y_train_bal,eclf_train_pred))\n",
    "print(\"Recall:\",recall_score(y_train_bal,eclf_train_pred))\n",
    "print(\"F1:\",f1_score(y_train_bal,eclf_train_pred, average='weighted'))\n",
    "false_positive_rate, true_positive_rate, thresholds = roc_curve(y_train_bal,eclf_train_pred)\n",
    "roc_auc = auc(false_positive_rate, true_positive_rate)\n",
    "\n",
    "print('Roc -Auc Curve',roc_auc)\n",
    "\n",
    "print(\"Test Metrics\")\n",
    "print(\"Accuracy:\",accuracy_score(y_test,eclf_test_pred))\n",
    "print(\"Precision:\",precision_score(y_test,eclf_test_pred))\n",
    "print(\"Recall:\",recall_score(y_test,eclf_test_pred))\n",
    "print(\"F1:\",f1_score(y_test,eclf_test_pred, average='weighted'))\n",
    "false_positive_rate, true_positive_rate, thresholds = roc_curve(y_test,eclf_test_pred)\n",
    "roc_auc = auc(false_positive_rate, true_positive_rate)\n",
    "\n",
    "print('Roc -Auc Curve',roc_auc)\n",
    "\n",
    "from sklearn.metrics import classification_report\n",
    "print('Test Classification Report')\n",
    "print(classification_report(y_test,eclf_test_pred))\n",
    "\n",
    "\n",
    "\n",
    "\n",
    "from sklearn.metrics import roc_curve, auc\n",
    "\n",
    "confusion_matrix = metrics.confusion_matrix(y_test, eclf_test_pred)\n",
    "\n",
    "sns.heatmap(confusion_matrix,annot=True,\n",
    "            lw =2,\n",
    "            cbar=False,\n",
    "            fmt=\"d\"\n",
    "           )\n",
    "plt.ylabel(\"True Values\")\n",
    "plt.xlabel(\"Predicted Values\")\n",
    "plt.title(\"Confusion Matrix\")\n",
    "plt.show()\n",
    "\n",
    "'''y_pred_proba = eclf.predict_proba(X_test)[::,1]\n",
    "fpr, tpr, _ = metrics.roc_curve(y_test,  y_pred_proba)\n",
    "auc = metrics.roc_auc_score(y_test, y_pred_proba)\n",
    "plt.plot(fpr,tpr,label=\"auc=\"+str(auc))\n",
    "plt.legend(loc=4)\n",
    "plt.show()'''\n"
   ]
  },
  {
   "cell_type": "code",
   "execution_count": null,
   "metadata": {},
   "outputs": [],
   "source": []
  },
  {
   "cell_type": "code",
   "execution_count": 7,
   "metadata": {},
   "outputs": [
    {
     "name": "stdout",
     "output_type": "stream",
     "text": [
      "[GradientBoosting] model bias bias (f1-score) 0.87634 (variance 0.01511)\n",
      "[GradientBoosting] model bias bias (AUC-score) 0.94473 (variance 0.00976)\n",
      "[Random Forest] model bias bias (f1-score) 0.85815 (variance 0.00671)\n",
      "[Random Forest] model bias bias (AUC-score) 0.93846 (variance 0.00530)\n",
      "[SVC] model bias bias (f1-score) 0.84444 (variance 0.00553)\n",
      "[SVC] model bias bias (AUC-score) 0.91511 (variance 0.00663)\n",
      "[Ensemble] model bias bias (f1-score) 0.85841 (variance 0.00767)\n",
      "[Ensemble] model bias bias (AUC-score) 0.94302 (variance 0.00652)\n"
     ]
    }
   ],
   "source": [
    "rkf = RepeatedKFold(n_splits=5, n_repeats=5, random_state=123)\n",
    "\n",
    "\n",
    "\n",
    "for clf, label in zip([clf1, clf2, clf3, eclf], ['GradientBoosting', 'Random Forest', 'SVC', 'Ensemble']):\n",
    "    fscores = cross_val_score(clf, X_train_bal, y_train_bal, scoring='f1', cv=5)\n",
    "    \n",
    "    scores = cross_val_score(clf,  X_train_bal, y_train_bal, scoring='roc_auc', cv=5)\n",
    "   \n",
    "    \n",
    "    print(\"[%s] model bias bias (f1-score) %0.5f (variance %0.5f)\" % (label,fscores.mean(), fscores.std()))\n",
    "    print(\"[%s] model bias bias (AUC-score) %0.5f (variance %0.5f)\" % (label,scores.mean(), scores.std()))\n"
   ]
  },
  {
   "cell_type": "code",
   "execution_count": null,
   "metadata": {},
   "outputs": [],
   "source": [
    "rf_model =ExtraTreesClassifier(n_estimators=300, max_depth=3,min_samples_split=4,min_samples_leaf=1,criterion='gini', min_weight_fraction_leaf=0.0,random_state=123)\n"
   ]
  },
  {
   "cell_type": "code",
   "execution_count": 21,
   "metadata": {},
   "outputs": [
    {
     "data": {
      "text/plain": [
       "0.8917867290236604"
      ]
     },
     "execution_count": 21,
     "metadata": {},
     "output_type": "execute_result"
    }
   ],
   "source": [
    "auc(fpr_grd_lm, tpr_grd_lm)"
   ]
  },
  {
   "cell_type": "code",
   "execution_count": 26,
   "metadata": {},
   "outputs": [
    {
     "data": {
      "text/plain": [
       "0.8996198549194137"
      ]
     },
     "execution_count": 26,
     "metadata": {},
     "output_type": "execute_result"
    }
   ],
   "source": [
    "auc(fpr_rt_lm, tpr_rt_lm)#, label='RT + LR')\n",
    "#auc(fpr_rf, tpr_rf)#, label='RF')\n",
    "#auc(fpr_rf_lm, tpr_rf_lm)#, label='RF + LR')\n",
    "#auc(fpr_grd, tpr_grd)#, label='GBT')\n",
    "#auc(fpr_grd_lm, tpr_grd_lm)#, label='GBT + LR')"
   ]
  },
  {
   "cell_type": "code",
   "execution_count": null,
   "metadata": {},
   "outputs": [],
   "source": []
  }
 ],
 "metadata": {
  "kernelspec": {
   "display_name": "Python 3",
   "language": "python",
   "name": "python3"
  },
  "language_info": {
   "codemirror_mode": {
    "name": "ipython",
    "version": 3
   },
   "file_extension": ".py",
   "mimetype": "text/x-python",
   "name": "python",
   "nbconvert_exporter": "python",
   "pygments_lexer": "ipython3",
   "version": "3.6.7"
  }
 },
 "nbformat": 4,
 "nbformat_minor": 4
}
