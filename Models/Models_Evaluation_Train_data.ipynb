{
 "cells": [
  {
   "cell_type": "code",
   "execution_count": 1,
   "metadata": {},
   "outputs": [],
   "source": [
    "from sklearn.model_selection import cross_val_score\n",
    "from sklearn.linear_model import LogisticRegression\n",
    "from sklearn.naive_bayes import GaussianNB\n",
    "from sklearn.ensemble import RandomForestClassifier\n",
    "from sklearn.ensemble import VotingClassifier\n",
    "import pandas as pd\n",
    "import numpy as np\n",
    "\n",
    "from sklearn import model_selection\n",
    "from sklearn.model_selection import cross_val_score\n",
    "\n",
    "from sklearn import metrics\n",
    "from sklearn.metrics import confusion_matrix\n",
    "from sklearn.metrics import classification_report\n",
    "from sklearn.metrics import roc_auc_score\n",
    "from sklearn.metrics import accuracy_score\n",
    "from sklearn.metrics import precision_recall_fscore_support\n",
    "from sklearn.ensemble import GradientBoostingClassifier\n",
    "from sklearn.naive_bayes import BernoulliNB\n",
    "from sklearn.svm import SVC\n",
    "from sklearn.model_selection import cross_val_score, RepeatedKFold\n",
    "from sklearn.metrics import f1_score\n",
    "\n",
    "from imblearn.ensemble import BalancedBaggingClassifier\n",
    "from imblearn.ensemble import BalancedRandomForestClassifier\n",
    "\n",
    "from sklearn.model_selection import train_test_split\n",
    "from sklearn.ensemble import BaggingClassifier\n",
    "from sklearn.ensemble import RandomForestClassifier\n",
    "from sklearn.ensemble import AdaBoostClassifier\n",
    "from sklearn.tree import DecisionTreeClassifier\n",
    "from sklearn.metrics import confusion_matrix\n",
    "from sklearn.metrics import balanced_accuracy_score\n",
    "\n",
    "from imblearn.datasets import fetch_datasets\n",
    "from imblearn.ensemble import BalancedBaggingClassifier\n",
    "from imblearn.ensemble import BalancedRandomForestClassifier\n",
    "from imblearn.ensemble import EasyEnsembleClassifier\n",
    "from imblearn.ensemble import RUSBoostClassifier\n",
    "\n",
    "from imblearn.metrics import geometric_mean_score\n",
    "from imblearn.under_sampling import NearMiss \n",
    "from sklearn.metrics import accuracy_score\n",
    "from sklearn.metrics import make_scorer\n",
    "\n",
    "\n",
    "\n",
    "\n",
    "\n",
    "\n",
    "from sklearn.linear_model import LogisticRegression\n",
    "import matplotlib.pyplot as plt\n",
    "%matplotlib inline\n",
    "\n",
    "import seaborn as sns\n",
    "\n",
    "plt.style.use('seaborn')\n",
    "pd.set_option('display.width', 200)\n",
    "pd.set_option('display.max_colwidth', 20)\n",
    "pd.set_option('display.max_rows', 100)\n",
    "from IPython.display import display, Markdown, Latex\n",
    "from sklearn.ensemble import ExtraTreesClassifier\n",
    "import seaborn as sns\n",
    "\n",
    "palette_list = ['#009ACD', '#ADD8E6', '#63D1F4', '#0EBFE9', '#C1F0F6', '#0099CC']\n",
    "plt.style.use('fivethirtyeight')"
   ]
  },
  {
   "cell_type": "code",
   "execution_count": 2,
   "metadata": {},
   "outputs": [],
   "source": [
    "best_features_VC = [  'Weekend_binary','Region_dummies_3', 'Region_dummies_1','VisitorType_dummies_New_Visitor', \n",
    "        'average_informational_duration_skew_s', 'average_ProductRelated_duration_skew_s',\n",
    "                      'average_administrative_duration_skew_s',\n",
    "                      'average_BounceRates/ExitRates_skew_s',\n",
    "       'season_dummies_Fall', 'PageValues_skew_s']\n",
    "\n",
    "\n",
    "best_features_GB = ['Browser_dummies_2', 'TrafficType_dummies_8', 'Region_dummies_2', 'season_dummies_Spring', 'OperatingSystems_dummies_2', 'Region_dummies_3', 'Weekend_binary', 'Region_dummies_1',\n",
    "       'TrafficType_dummies_2', 'average_informational_duration_skew_s', 'average_ProductRelated_duration_skew_s', 'average_administrative_duration_skew_s', 'average_BounceRates/ExitRates_skew_s',\n",
    "       'season_dummies_Fall', 'PageValues_skew_s']\n",
    "RF_best_features = ['Region_dummies_1', 'TrafficType_dummies_11',\n",
    "                    'season_dummies_winter', 'Weekend_binary',\n",
    "       'VisitorType_dummies_New_Visitor',\n",
    "                    'VisitorType_dummies_Returning_Visitor',\n",
    "                    'OperatingSystems_dummies_2', 'TrafficType_dummies_3', \n",
    "                    'average_informational_duration_skew_s',\n",
    "       'OperatingSystems_dummies_3', 'season_dummies_Spring',\n",
    "                    'TrafficType_dummies_2', 'season_dummies_Fall',\n",
    "                    'average_ProductRelated_duration_skew_s', \n",
    "                    'average_administrative_duration_skew_s',\n",
    "       'average_BounceRates/ExitRates_skew_s', 'PageValues_skew_s']\n",
    "\n",
    "SVC_best_features = ['Region_dummies_2', 'Browser_dummies_1',\n",
    "                     'Browser_dummies_8', 'Browser_dummies_12',\n",
    "                     'season_dummies_winter', 'Browser_dummies_13', \n",
    "                     'season_dummies_summer', 'season_dummies_Fall',\n",
    "       'OperatingSystems_dummies_7', 'TrafficType_dummies_13', \n",
    "                     'TrafficType_dummies_9', 'TrafficType_dummies_14',\n",
    "                     'TrafficType_dummies_7', 'TrafficType_dummies_6',\n",
    "                     'TrafficType_dummies_20',\n",
    "       'TrafficType_dummies_1', 'TrafficType_dummies_4',\n",
    "                     'TrafficType_dummies_3', 'TrafficType_dummies_5', \n",
    "                     'TrafficType_dummies_10', 'TrafficType_dummies_11',\n",
    "                     'TrafficType_dummies_2',\n",
    "       'TrafficType_dummies_8', 'TrafficType_dummies_16', 'PageValues_skew_s']\n",
    "\n",
    "best_features_dt = [  'average_BounceRates/ExitRates_skew_s', 'PageValues_skew_s' ,'VisitorType_dummies_New_Visitor',\n",
    " 'Weekend_binary']\n",
    "\n",
    "\n",
    "best_features_spsa = ['average_BounceRates/ExitRates_skew_s', 'season_dummies_Fall',\n",
    "       'PageValues_skew_s', 'VisitorType_dummies_New_Visitor',\n",
    "       'TrafficType_dummies_7', 'average_administrative_duration_skew_s']\n"
   ]
  },
  {
   "cell_type": "markdown",
   "metadata": {},
   "source": [
    "#### setting up the votingclassifer"
   ]
  },
  {
   "cell_type": "code",
   "execution_count": 4,
   "metadata": {},
   "outputs": [],
   "source": [
    "clf1 = GradientBoostingClassifier(learning_rate=0.05,n_estimators=1250,max_depth=4, min_samples_split=10,\n",
    "                                       min_samples_leaf=1, subsample=0.8 , random_state=123,\n",
    "                                      )\n",
    "\n",
    "clf2 =BalancedRandomForestClassifier(max_depth =  7 , \n",
    "                                  min_samples_split = 6,\n",
    "                                  min_samples_leaf =1  , \n",
    "                                  n_estimators = 1750 ,\n",
    "                                  random_state=123)\n",
    "\n",
    "clf3 = SVC(C=1, break_ties=False, cache_size=200,\n",
    "           class_weight=None, coef0=0.0,\n",
    "    decision_function_shape='ovr', degree=3,\n",
    "           gamma=1, kernel='linear',\n",
    "    max_iter=-1, probability=True, random_state=123,\n",
    "           shrinking=True, tol=0.001,\n",
    "           verbose=False)\n",
    "\n",
    "\n",
    "eclf = VotingClassifier(estimators=[('gb', clf1), ('rf', clf2), (\"SVC\", clf3) ],voting='soft')\n"
   ]
  },
  {
   "cell_type": "code",
   "execution_count": 6,
   "metadata": {},
   "outputs": [],
   "source": [
    "# load dataset\n",
    "import pandas\n",
    "from scaled_data import *\n",
    "X,y = clean_data()\n"
   ]
  },
  {
   "cell_type": "markdown",
   "metadata": {},
   "source": [
    "###  Setting up the multi evaluation code:"
   ]
  },
  {
   "cell_type": "code",
   "execution_count": 7,
   "metadata": {},
   "outputs": [],
   "source": [
    "#https://machinelearningmastery.com/compare-machine-learning-algorithms-python-scikit-learn/\n",
    "import pandas\n",
    "import matplotlib.pyplot as plt\n",
    "from sklearn import model_selection\n",
    "from sklearn.linear_model import LogisticRegression\n",
    "from sklearn.naive_bayes import BernoulliNB\n",
    "from imblearn.over_sampling import SMOTE\n",
    "\n",
    "\n",
    "from sklearn.svm import SVC\n",
    "\n",
    "# prepare configuration for cross validation test harness\n",
    "seed = 123\n",
    "# prepare models\n",
    "models = []\n",
    "models.append(('LogisticRegression', best_features_spsa,LogisticRegression( max_iter = 2000,random_state=123 , C=1.0, dual=False)))\n",
    "models.append(('NaiveBayes',best_features_spsa, BernoulliNB()))\n",
    "models.append(('GradientBoostingClassifier',best_features_GB, GradientBoostingClassifier(learning_rate=0.05,n_estimators=1250,\n",
    "                    max_depth=4, min_samples_split=10,\n",
    "                    min_samples_leaf=1, subsample=0.8 , random_state=123)))\n",
    "models.append(('RandomForestClassifier',RF_best_features, BalancedRandomForestClassifier(max_depth =  7 , \n",
    "                    min_samples_split = 6,min_samples_leaf =1  ,\n",
    "                    n_estimators = 1750 ,random_state=123)))\n",
    "models.append(('DecisionTreeClassifier',best_features_dt ,DecisionTreeClassifier(max_depth=5,min_samples_split=40)))\n",
    "models.append(('VotingClassifier',best_features_VC , VotingClassifier(estimators=[('gb', clf1), ('rf', clf2), (\"SVC\", clf3) ],voting='soft')))\n",
    "models.append(('SVM',SVC_best_features, SVC(C=1, break_ties=False, cache_size=200,\n",
    "                          class_weight=None, coef0=0.0,decision_function_shape='ovr',\n",
    "                          degree=3,gamma=1, kernel='linear',max_iter=-1, probability=True\n",
    "                          , random_state=123,shrinking=True, tol=0.001,verbose=False)))\n",
    "\n"
   ]
  },
  {
   "cell_type": "markdown",
   "metadata": {},
   "source": [
    "### Running  cross_val_score with kfold in a for loop and save the results to a csv\n",
    "##### For each model :\n",
    "- evaluate each model in turn\n",
    "- the code saves the f1  & AUC and accuracy  score\n",
    "- saves the model Hyperparameters\n",
    "- saves the model  used features "
   ]
  },
  {
   "cell_type": "code",
   "execution_count": 9,
   "metadata": {},
   "outputs": [],
   "source": [
    "#https://machinelearningmastery.com/compare-machine-learning-algorithms-python-scikit-learn/\n",
    "\n",
    "# evaluate each model in turn\n",
    "from sklearn.metrics import roc_auc_score\n",
    "from sklearn.model_selection import cross_val_score, RepeatedKFold\n",
    "\n",
    "results_accuracy = []\n",
    "results_f1 = []\n",
    "results_auc = []\n",
    "names = []\n",
    "scoring_accuracy = 'accuracy'\n",
    "scoring_f1 = 'f1'\n",
    "scoring_auc =  make_scorer(roc_auc_score)\n",
    "best_features = []\n",
    "f1 = []\n",
    "auc = []\n",
    "f1_bias = []\n",
    "auc_bias = []\n",
    "f1_variance = []\n",
    "auc_variance = []\n",
    "\n",
    "accuracy_bias = []\n",
    "accuracy_variance = []\n",
    "\n",
    "\n",
    "model_hyper = []\n",
    "summary = []\n",
    "\n",
    "data = pd.DataFrame([])\n",
    "for name, best_feature,model in models:\n",
    "    X_data = X.copy() #making our X columns\n",
    "\n",
    "    best_features =[best_feature]\n",
    "\n",
    "    X_models = X_data[best_feature]\n",
    "    X_model = X_models.values\n",
    "#getting the values of our y:\n",
    "     # target\n",
    "    y_model = y.values.ravel()\n",
    "\n",
    "\n",
    "\n",
    "#Splitting data test&train \n",
    "    X_train, X_test, y_train, y_test= train_test_split(X_model, y_model , test_size=0.25, random_state=8)\n",
    "\n",
    "    \n",
    "\n",
    "    sm =SMOTE(k_neighbors=4,random_state=123)\n",
    "    X_train_bal, y_train_bal = sm.fit_sample(X_train, y_train)\n",
    "\n",
    "\n",
    "\n",
    "   \n",
    "    kfold = RepeatedKFold(n_splits=10, random_state=seed)\n",
    "    cv_results_accuracy = model_selection.cross_val_score(model, X_train_bal, y_train_bal, cv=kfold, scoring=scoring_accuracy,n_jobs=-2)\n",
    "    cv_results_f1 = model_selection.cross_val_score(model, X_train_bal, y_train_bal, cv=kfold, scoring=scoring_f1,n_jobs=-2)\n",
    "    cv_results_auc = model_selection.cross_val_score(model,X_train_bal, y_train_bal, cv=kfold, scoring=scoring_auc,n_jobs=-2)\n",
    "    model_hyper=str(model).replace('\\n',\"\").replace(\" \",\"\")\n",
    "        \n",
    "    results_accuracy.append(cv_results_accuracy)\n",
    "    results_f1.append(cv_results_f1)\n",
    "    results_auc.append(cv_results_auc)\n",
    "    \n",
    "    accuracy_bias=cv_results_accuracy.mean()\n",
    "    accuracy_variance=cv_results_accuracy.std()\n",
    "    f1_bias=cv_results_f1.mean()\n",
    "    f1_variance=cv_results_f1.std()\n",
    "    auc_bias=cv_results_auc.mean()\n",
    "    auc_variance=cv_results_auc.std()\n",
    "    \n",
    "    names.append(name)\n",
    "        \n",
    "    summary_m = \"[%s] model bias  (f1-score) %0.5f (variance %0.5f) | (AUC-score) %0.5f (variance %0.5f)\"% (name,cv_results_f1.mean(), cv_results_f1.std(), \n",
    "                                                                                                            cv_results_auc.mean(), cv_results_auc.std())\n",
    "    summary.append(summary_m )  \n",
    "                                                                                                           \n",
    "    data = data.append(pd.DataFrame({'model': name, 'Hyperparameters': model_hyper, 'f1_score': [cv_results_f1], \n",
    "                                     'model_bias_f1-score': f1_bias,'model_bias_f1_variance': f1_variance,\n",
    "                                     'AUC_score': [cv_results_auc],'model_bias_AUC_score': auc_bias,'model_bias_AUC_variance': auc_variance ,\n",
    "                     'accuracy_score': [cv_results_accuracy], 'model_bias_accuracy_score': accuracy_bias,'model bias_accuracy_variance': accuracy_variance,\n",
    "                                  \"summary\":summary_m ,\"features_used\" :best_features }  ), ignore_index=True)\n",
    "\n",
    "    \n",
    "\n",
    "   "
   ]
  },
  {
   "cell_type": "code",
   "execution_count": 12,
   "metadata": {},
   "outputs": [
    {
     "data": {
      "text/plain": [
       "0.009107762605026958"
      ]
     },
     "execution_count": 12,
     "metadata": {},
     "output_type": "execute_result"
    }
   ],
   "source": [
    "#save to csv\n",
    "#data.to_csv(\"eval_testv2.csv\")\n",
    "df[\"model bias_accuracy_variance\"][0]"
   ]
  },
  {
   "cell_type": "code",
   "execution_count": 24,
   "metadata": {},
   "outputs": [
    {
     "data": {
      "text/markdown": [
       " __[LogisticRegression] model bias  (f1-score) 0.84182 (variance 0.00936) | (AUC-score) 0.84408 (variance 0.00904) | (Accuracy-score) 0.8441 (variance 0.00911)__<br>"
      ],
      "text/plain": [
       "<IPython.core.display.Markdown object>"
      ]
     },
     "metadata": {},
     "output_type": "display_data"
    },
    {
     "data": {
      "text/markdown": [
       " ---"
      ],
      "text/plain": [
       "<IPython.core.display.Markdown object>"
      ]
     },
     "metadata": {},
     "output_type": "display_data"
    },
    {
     "data": {
      "text/markdown": [
       " __[NaiveBayes] model bias  (f1-score) 0.84613 (variance 0.00930) | (AUC-score) 0.84755 (variance 0.00899) | (Accuracy-score) 0.84759 (variance 0.00901)__<br>"
      ],
      "text/plain": [
       "<IPython.core.display.Markdown object>"
      ]
     },
     "metadata": {},
     "output_type": "display_data"
    },
    {
     "data": {
      "text/markdown": [
       " ---"
      ],
      "text/plain": [
       "<IPython.core.display.Markdown object>"
      ]
     },
     "metadata": {},
     "output_type": "display_data"
    },
    {
     "data": {
      "text/markdown": [
       " __[GradientBoostingClassifier] model bias  (f1-score) 0.91239 (variance 0.00648) | (AUC-score) 0.91107 (variance 0.00665) | (Accuracy-score) 0.91108 (variance 0.00661)__<br>"
      ],
      "text/plain": [
       "<IPython.core.display.Markdown object>"
      ]
     },
     "metadata": {},
     "output_type": "display_data"
    },
    {
     "data": {
      "text/markdown": [
       " ---"
      ],
      "text/plain": [
       "<IPython.core.display.Markdown object>"
      ]
     },
     "metadata": {},
     "output_type": "display_data"
    },
    {
     "data": {
      "text/markdown": [
       " __[RandomForestClassifier] model bias  (f1-score) 0.88375 (variance 0.00861) | (AUC-score) 0.88384 (variance 0.00869) | (Accuracy-score) 0.88387 (variance 0.00868)__<br>"
      ],
      "text/plain": [
       "<IPython.core.display.Markdown object>"
      ]
     },
     "metadata": {},
     "output_type": "display_data"
    },
    {
     "data": {
      "text/markdown": [
       " ---"
      ],
      "text/plain": [
       "<IPython.core.display.Markdown object>"
      ]
     },
     "metadata": {},
     "output_type": "display_data"
    },
    {
     "data": {
      "text/markdown": [
       " __[DecisionTreeClassifier] model bias  (f1-score) 0.84404 (variance 0.01002) | (AUC-score) 0.85047 (variance 0.00925) | (Accuracy-score) 0.85051 (variance 0.0094)__<br>"
      ],
      "text/plain": [
       "<IPython.core.display.Markdown object>"
      ]
     },
     "metadata": {},
     "output_type": "display_data"
    },
    {
     "data": {
      "text/markdown": [
       " ---"
      ],
      "text/plain": [
       "<IPython.core.display.Markdown object>"
      ]
     },
     "metadata": {},
     "output_type": "display_data"
    },
    {
     "data": {
      "text/markdown": [
       " __[VotingClassifier] model bias  (f1-score) 0.86095 (variance 0.00903) | (AUC-score) 0.86428 (variance 0.00870) | (Accuracy-score) 0.86431 (variance 0.0088)__<br>"
      ],
      "text/plain": [
       "<IPython.core.display.Markdown object>"
      ]
     },
     "metadata": {},
     "output_type": "display_data"
    },
    {
     "data": {
      "text/markdown": [
       " ---"
      ],
      "text/plain": [
       "<IPython.core.display.Markdown object>"
      ]
     },
     "metadata": {},
     "output_type": "display_data"
    },
    {
     "data": {
      "text/markdown": [
       " __[SVM] model bias  (f1-score) 0.84588 (variance 0.00957) | (AUC-score) 0.85116 (variance 0.00917) | (Accuracy-score) 0.85119 (variance 0.00934)__<br>"
      ],
      "text/plain": [
       "<IPython.core.display.Markdown object>"
      ]
     },
     "metadata": {},
     "output_type": "display_data"
    },
    {
     "data": {
      "text/markdown": [
       " ---"
      ],
      "text/plain": [
       "<IPython.core.display.Markdown object>"
      ]
     },
     "metadata": {},
     "output_type": "display_data"
    }
   ],
   "source": [
    "df= pd.read_csv(\"eval_testv2.csv\")\n",
    "\n",
    "for i in range(0, len( df.index)):\n",
    "    display(Markdown( \" __{} | (Accuracy-score) {} (variance {})__<br>\".format(df.summary[i], df.model_bias_accuracy_score[i].round(5), df[\"model bias_accuracy_variance\"][i].round(5))) )\n",
    "    display(Markdown( \" ---\")) "
   ]
  },
  {
   "cell_type": "code",
   "execution_count": 51,
   "metadata": {},
   "outputs": [],
   "source": [
    "\n",
    "\n",
    "#https://stackoverflow.com/questions/35133317/numpy-save-some-arrays-at-once\n",
    "try:\n",
    "    import cPickle as pickle\n",
    "except:\n",
    "    import pickle\n",
    "import numpy as np\n",
    "\n",
    "#save the arrays to pickle\n",
    "\n",
    "#with open('AlgorithmComparison_.pkl', 'wb') as outfile:\n",
    "#    pickle.dump(results_accuracy, outfile, pickle.HIGHEST_PROTOCOL)\n",
    "\n",
    "with open('AlgorithmComparison_accuracy.pkl', 'rb') as infile:\n",
    "    result_accuracy_pickle = pickle.load(infile)"
   ]
  },
  {
   "cell_type": "code",
   "execution_count": 56,
   "metadata": {},
   "outputs": [],
   "source": [
    "\n",
    "\n",
    "\n",
    "\n",
    "try:\n",
    "    import cPickle as pickle\n",
    "except:\n",
    "    import pickle\n",
    "import numpy as np\n",
    "\n",
    "with open('AlgorithmComparison_accuracy.pkl', 'rb') as infile:\n",
    "    result_accuracy_pickle = pickle.load(infile)\n",
    "with open('AlgorithmComparison_F1.pkl', 'rb') as infile:\n",
    "    result_f1_pickle = pickle.load(infile)\n",
    "\n",
    "with open('AlgorithmComparison_AUC.pkl', 'rb') as infile:\n",
    "    result_auc_pickle = pickle.load(infile)"
   ]
  },
  {
   "cell_type": "code",
   "execution_count": 55,
   "metadata": {},
   "outputs": [
    {
     "data": {
      "image/png": "[encoded data removed]",
      "text/plain": [
       "<Figure size 1080x720 with 1 Axes>"
      ]
     },
     "metadata": {},
     "output_type": "display_data"
    }
   ],
   "source": [
    "# boxplot algorithm comparison\n",
    "fig = plt.figure(figsize = (15,10))\n",
    "fig.suptitle('Algorithm Comparison F1')\n",
    "ax = fig.add_subplot(111)\n",
    "plt.boxplot( result_f1_pickle)\n",
    "ax.set_xticklabels(df.model)\n",
    "plt.show()\n",
    "from matplotlib import pyplot as plt\n",
    "\n",
    "#plt.savefig('AlgorithmComparison_F1',dpi=(250), bbox_inches='tight')\n",
    "  # save the figure to file\n",
    "#plt.close(fig) \n"
   ]
  },
  {
   "cell_type": "code",
   "execution_count": 60,
   "metadata": {},
   "outputs": [
    {
     "data": {
      "image/png": "[encoded data removed]",
      "text/plain": [
       "<Figure size 1080x720 with 1 Axes>"
      ]
     },
     "metadata": {},
     "output_type": "display_data"
    }
   ],
   "source": [
    "# boxplot algorithm comparison\n",
    "fig = plt.figure(figsize = (15,10))\n",
    "fig.suptitle('Algorithm Comparison AUC')\n",
    "ax = fig.add_subplot(111)\n",
    "plt.boxplot(result_auc_pickle )\n",
    "ax.set_xticklabels(df.model)\n",
    "# save the figure to file\n",
    "#plt.savefig('AlgorithmComparison_AUC',dpi=(250), bbox_inches='tight')\n",
    "\n",
    "#plt.close(fig) \n",
    "plt.show()"
   ]
  },
  {
   "cell_type": "code",
   "execution_count": 59,
   "metadata": {},
   "outputs": [
    {
     "data": {
      "image/png": "[encoded data removed]",
      "text/plain": [
       "<Figure size 1080x720 with 1 Axes>"
      ]
     },
     "metadata": {},
     "output_type": "display_data"
    }
   ],
   "source": [
    "\n",
    "# boxplot algorithm comparison\n",
    "fig = plt.figure(figsize = (15,10))\n",
    "fig.suptitle('Algorithm Comparison Accuracy')\n",
    "ax = fig.add_subplot(111)\n",
    "plt.boxplot(result_accuracy_pickle )\n",
    "ax.set_xticklabels(df.model)\n",
    "# save the figure to file\n",
    "\n",
    "#plt.savefig('AlgorithmComparison_accuracy',dpi=(250), bbox_inches='tight')\n",
    "#plt.close(fig) \n",
    "plt.show()"
   ]
  },
  {
   "cell_type": "code",
   "execution_count": null,
   "metadata": {},
   "outputs": [],
   "source": []
  }
 ],
 "metadata": {
  "kernelspec": {
   "display_name": "Python 3",
   "language": "python",
   "name": "python3"
  },
  "language_info": {
   "codemirror_mode": {
    "name": "ipython",
    "version": 3
   },
   "file_extension": ".py",
   "mimetype": "text/x-python",
   "name": "python",
   "nbconvert_exporter": "python",
   "pygments_lexer": "ipython3",
   "version": "3.6.7"
  }
 },
 "nbformat": 4,
 "nbformat_minor": 4
}
