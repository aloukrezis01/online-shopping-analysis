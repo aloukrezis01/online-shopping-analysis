{
 "cells": [
  {
   "cell_type": "code",
   "execution_count": 10,
   "metadata": {},
   "outputs": [],
   "source": [
    "from sklearn.model_selection import cross_val_score\n",
    "from sklearn.linear_model import LogisticRegression\n",
    "from sklearn.naive_bayes import GaussianNB\n",
    "from sklearn.ensemble import RandomForestClassifier\n",
    "from sklearn.ensemble import VotingClassifier\n",
    "import pandas as pd\n",
    "import numpy as np\n",
    "\n",
    "from sklearn import model_selection\n",
    "from sklearn.model_selection import cross_val_score\n",
    "\n",
    "from sklearn import metrics\n",
    "from sklearn.metrics import confusion_matrix\n",
    "from sklearn.metrics import classification_report\n",
    "from sklearn.metrics import roc_auc_score\n",
    "from sklearn.metrics import accuracy_score\n",
    "from sklearn.metrics import precision_recall_fscore_support\n",
    "from sklearn.ensemble import GradientBoostingClassifier\n",
    "from sklearn.naive_bayes import BernoulliNB\n",
    "from sklearn.svm import SVC\n",
    "from sklearn.model_selection import cross_val_score, RepeatedKFold\n",
    "from sklearn.metrics import f1_score\n",
    "\n",
    "from imblearn.ensemble import BalancedBaggingClassifier\n",
    "from imblearn.ensemble import BalancedRandomForestClassifier\n",
    "\n",
    "from sklearn.model_selection import train_test_split\n",
    "from sklearn.ensemble import BaggingClassifier\n",
    "from sklearn.ensemble import RandomForestClassifier\n",
    "from sklearn.ensemble import AdaBoostClassifier\n",
    "from sklearn.tree import DecisionTreeClassifier\n",
    "from sklearn.metrics import confusion_matrix\n",
    "from sklearn.metrics import balanced_accuracy_score\n",
    "\n",
    "from imblearn.datasets import fetch_datasets\n",
    "from imblearn.ensemble import BalancedBaggingClassifier\n",
    "from imblearn.ensemble import BalancedRandomForestClassifier\n",
    "from imblearn.ensemble import EasyEnsembleClassifier\n",
    "from imblearn.ensemble import RUSBoostClassifier\n",
    "\n",
    "from imblearn.metrics import geometric_mean_score\n",
    "from imblearn.under_sampling import NearMiss \n",
    "from sklearn.metrics import accuracy_score\n",
    "from sklearn.metrics import make_scorer\n",
    "\n",
    "\n",
    "\n",
    "\n",
    "\n",
    "\n",
    "from sklearn.linear_model import LogisticRegression\n",
    "import matplotlib.pyplot as plt\n",
    "%matplotlib inline\n",
    "\n",
    "import seaborn as sns\n",
    "\n",
    "plt.style.use('seaborn')\n",
    "pd.set_option('display.width', 200)\n",
    "pd.set_option('display.max_colwidth', 20)\n",
    "pd.set_option('display.max_rows', 100)\n",
    "from IPython.display import display, Markdown, Latex\n",
    "from sklearn.ensemble import ExtraTreesClassifier\n",
    "import seaborn as sns\n",
    "\n",
    "palette_list = ['#009ACD', '#ADD8E6', '#63D1F4', '#0EBFE9', '#C1F0F6', '#0099CC']\n",
    "plt.style.use('fivethirtyeight')"
   ]
  },
  {
   "cell_type": "code",
   "execution_count": 2,
   "metadata": {},
   "outputs": [],
   "source": [
    "best_features_VC = [  'Weekend_binary','Region_dummies_3', 'Region_dummies_1','VisitorType_dummies_New_Visitor', \n",
    "        'average_informational_duration_skew_s', 'average_ProductRelated_duration_skew_s',\n",
    "                      'average_administrative_duration_skew_s',\n",
    "                      'average_BounceRates/ExitRates_skew_s',\n",
    "       'season_dummies_Fall', 'PageValues_skew_s']\n",
    "\n",
    "\n",
    "best_features_GB = ['Browser_dummies_2', 'TrafficType_dummies_8', 'Region_dummies_2', 'season_dummies_Spring', 'OperatingSystems_dummies_2', 'Region_dummies_3', 'Weekend_binary', 'Region_dummies_1',\n",
    "       'TrafficType_dummies_2', 'average_informational_duration_skew_s', 'average_ProductRelated_duration_skew_s', 'average_administrative_duration_skew_s', 'average_BounceRates/ExitRates_skew_s',\n",
    "       'season_dummies_Fall', 'PageValues_skew_s']\n",
    "RF_best_features = ['Region_dummies_1', 'TrafficType_dummies_11',\n",
    "                    'season_dummies_winter', 'Weekend_binary',\n",
    "       'VisitorType_dummies_New_Visitor',\n",
    "                    'VisitorType_dummies_Returning_Visitor',\n",
    "                    'OperatingSystems_dummies_2', 'TrafficType_dummies_3', \n",
    "                    'average_informational_duration_skew_s',\n",
    "       'OperatingSystems_dummies_3', 'season_dummies_Spring',\n",
    "                    'TrafficType_dummies_2', 'season_dummies_Fall',\n",
    "                    'average_ProductRelated_duration_skew_s', \n",
    "                    'average_administrative_duration_skew_s',\n",
    "       'average_BounceRates/ExitRates_skew_s', 'PageValues_skew_s']\n",
    "\n",
    "SVC_best_features = ['Region_dummies_2', 'Browser_dummies_1',\n",
    "                     'Browser_dummies_8', 'Browser_dummies_12',\n",
    "                     'season_dummies_winter', 'Browser_dummies_13', \n",
    "                     'season_dummies_summer', 'season_dummies_Fall',\n",
    "       'OperatingSystems_dummies_7', 'TrafficType_dummies_13', \n",
    "                     'TrafficType_dummies_9', 'TrafficType_dummies_14',\n",
    "                     'TrafficType_dummies_7', 'TrafficType_dummies_6',\n",
    "                     'TrafficType_dummies_20',\n",
    "       'TrafficType_dummies_1', 'TrafficType_dummies_4',\n",
    "                     'TrafficType_dummies_3', 'TrafficType_dummies_5', \n",
    "                     'TrafficType_dummies_10', 'TrafficType_dummies_11',\n",
    "                     'TrafficType_dummies_2',\n",
    "       'TrafficType_dummies_8', 'TrafficType_dummies_16', 'PageValues_skew_s']\n",
    "\n",
    "best_features_dt = [  'average_BounceRates/ExitRates_skew_s', 'PageValues_skew_s' ,'VisitorType_dummies_New_Visitor',\n",
    " 'Weekend_binary']\n",
    "\n",
    "\n",
    "best_features_spsa = ['average_BounceRates/ExitRates_skew_s', 'season_dummies_Fall',\n",
    "       'PageValues_skew_s', 'VisitorType_dummies_New_Visitor',\n",
    "       'TrafficType_dummies_7', 'average_administrative_duration_skew_s']\n"
   ]
  },
  {
   "cell_type": "code",
   "execution_count": 3,
   "metadata": {},
   "outputs": [
    {
     "data": {
      "text/plain": [
       "['Weekend_binary',\n",
       " 'Region_dummies_3',\n",
       " 'Region_dummies_1',\n",
       " 'VisitorType_dummies_New_Visitor',\n",
       " 'average_informational_duration_skew_s',\n",
       " 'average_ProductRelated_duration_skew_s',\n",
       " 'average_administrative_duration_skew_s',\n",
       " 'average_BounceRates/ExitRates_skew_s',\n",
       " 'season_dummies_Fall',\n",
       " 'PageValues_skew_s']"
      ]
     },
     "execution_count": 3,
     "metadata": {},
     "output_type": "execute_result"
    }
   ],
   "source": [
    "best_features_VC#.to_html()"
   ]
  },
  {
   "cell_type": "markdown",
   "metadata": {},
   "source": [
    "#### setting up the votingclassifer"
   ]
  },
  {
   "cell_type": "code",
   "execution_count": 4,
   "metadata": {},
   "outputs": [],
   "source": [
    "clf1 = GradientBoostingClassifier(learning_rate=0.05,n_estimators=1250,max_depth=4, min_samples_split=10,\n",
    "                                       min_samples_leaf=1, subsample=0.8 , random_state=123,\n",
    "                                      )\n",
    "\n",
    "clf2 =BalancedRandomForestClassifier(max_depth =  7 , \n",
    "                                  min_samples_split = 6,\n",
    "                                  min_samples_leaf =1  , \n",
    "                                  n_estimators = 1750 ,\n",
    "                                  random_state=123)\n",
    "\n",
    "clf3 = SVC(C=1, break_ties=False, cache_size=200,\n",
    "           class_weight=None, coef0=0.0,\n",
    "    decision_function_shape='ovr', degree=3,\n",
    "           gamma=1, kernel='linear',\n",
    "    max_iter=-1, probability=True, random_state=123,\n",
    "           shrinking=True, tol=0.001,\n",
    "           verbose=False)\n",
    "\n",
    "\n",
    "eclf = VotingClassifier(estimators=[('gb', clf1), ('rf', clf2), (\"SVC\", clf3) ],voting='soft')\n"
   ]
  },
  {
   "cell_type": "code",
   "execution_count": 5,
   "metadata": {},
   "outputs": [],
   "source": [
    "# load dataset\n",
    "import pandas\n",
    "from scaled_data import *\n",
    "X,y = clean_data()\n"
   ]
  },
  {
   "cell_type": "markdown",
   "metadata": {},
   "source": [
    "###  Setting up the multi evaluation code:"
   ]
  },
  {
   "cell_type": "code",
   "execution_count": 6,
   "metadata": {},
   "outputs": [],
   "source": [
    "#https://machinelearningmastery.com/compare-machine-learning-algorithms-python-scikit-learn/\n",
    "import pandas\n",
    "import matplotlib.pyplot as plt\n",
    "from sklearn import model_selection\n",
    "from sklearn.linear_model import LogisticRegression\n",
    "from sklearn.naive_bayes import BernoulliNB\n",
    "from imblearn.over_sampling import SMOTE\n",
    "\n",
    "\n",
    "from sklearn.svm import SVC\n",
    "\n",
    "# prepare configuration for cross validation test harness\n",
    "seed = 123\n",
    "# prepare models\n",
    "models = []\n",
    "models.append(('LogisticRegression', best_features_spsa,LogisticRegression( max_iter = 2000,random_state=123 , C=1.0, dual=False)))\n",
    "models.append(('NaiveBayes',best_features_spsa, BernoulliNB()))\n",
    "models.append(('GradientBoostingClassifier',best_features_GB, GradientBoostingClassifier(learning_rate=0.05,n_estimators=1250,\n",
    "                    max_depth=4, min_samples_split=10,\n",
    "                    min_samples_leaf=1, subsample=0.8 , random_state=123)))\n",
    "models.append(('RandomForestClassifier',RF_best_features, BalancedRandomForestClassifier(max_depth =  7 , \n",
    "                    min_samples_split = 6,min_samples_leaf =1  ,\n",
    "                    n_estimators = 1750 ,random_state=123)))\n",
    "models.append(('DecisionTreeClassifier',best_features_dt ,DecisionTreeClassifier(max_depth=5,min_samples_split=40)))\n",
    "models.append(('VotingClassifier',best_features_VC , VotingClassifier(estimators=[('gb', clf1), ('rf', clf2), (\"SVC\", clf3) ],voting='soft')))\n",
    "models.append(('SVM',SVC_best_features, SVC(C=1, break_ties=False, cache_size=200,\n",
    "                          class_weight=None, coef0=0.0,decision_function_shape='ovr',\n",
    "                          degree=3,gamma=1, kernel='linear',max_iter=-1, probability=True\n",
    "                          , random_state=123,shrinking=True, tol=0.001,verbose=False)))\n",
    "\n"
   ]
  },
  {
   "cell_type": "markdown",
   "metadata": {},
   "source": [
    "### Running  cross_val_score with kfold in a for loop and save the results to a csv\n",
    "##### For each model :\n",
    "- evaluate each model in turn\n",
    "- the code saves the f1  & AUC and accuracy  score\n",
    "- saves the model Hyperparameters\n",
    "- saves the model  used features "
   ]
  },
  {
   "cell_type": "code",
   "execution_count": 7,
   "metadata": {},
   "outputs": [],
   "source": [
    "#https://machinelearningmastery.com/compare-machine-learning-algorithms-python-scikit-learn/\n",
    "\n",
    "# evaluate each model in turn\n",
    "from sklearn.metrics import roc_auc_score\n",
    "from sklearn.model_selection import cross_val_score, RepeatedKFold\n",
    "\n",
    "results_accuracy = []\n",
    "results_f1 = []\n",
    "results_auc = []\n",
    "names = []\n",
    "scoring_accuracy = 'accuracy'\n",
    "scoring_f1 = 'f1'\n",
    "scoring_auc =  make_scorer(roc_auc_score)\n",
    "best_features = []\n",
    "f1 = []\n",
    "auc = []\n",
    "f1_bias = []\n",
    "auc_bias = []\n",
    "f1_variance = []\n",
    "auc_variance = []\n",
    "\n",
    "accuracy_bias = []\n",
    "accuracy_variance = []\n",
    "\n",
    "\n",
    "model_hyper = []\n",
    "summary = []\n",
    "\n",
    "data = pd.DataFrame([])\n",
    "for name, best_feature,model in models:\n",
    "    X_data = X.copy() #making our X columns\n",
    "\n",
    "    best_features =[best_feature]\n",
    "\n",
    "    X_models = X_data[best_feature]\n",
    "    X_model = X_models.values\n",
    "#getting the values of our y:\n",
    "     # target\n",
    "    y_model = y.values.ravel()\n",
    "\n",
    "\n",
    "\n",
    "#Splitting data test&train \n",
    "    #X_train, X_test, y_train, y_test= train_test_split(X_model, y_model , test_size=0.25, random_state=8)\n",
    "\n",
    "    \n",
    "\n",
    "    sm =SMOTE(k_neighbors=4,random_state=123)\n",
    "    X_bal, y_bal = sm.fit_sample(X_model, y_model)\n",
    "\n",
    "\n",
    "\n",
    "   \n",
    "    kfold = RepeatedKFold(n_splits=10, random_state=seed)\n",
    "    cv_results_accuracy = model_selection.cross_val_score(model, X_bal, y_bal, cv=kfold, scoring=scoring_accuracy,n_jobs=-2)\n",
    "    cv_results_f1 = model_selection.cross_val_score(model, X_bal, y_bal, cv=kfold, scoring=scoring_f1,n_jobs=-2)\n",
    "    cv_results_auc = model_selection.cross_val_score(model,X_bal, y_bal, cv=kfold, scoring=scoring_auc,n_jobs=-2)\n",
    "    model_hyper=str(model).replace('\\n',\"\").replace(\" \",\"\")\n",
    "        \n",
    "    results_accuracy.append(cv_results_accuracy)\n",
    "    results_f1.append(cv_results_f1)\n",
    "    results_auc.append(cv_results_auc)\n",
    "    \n",
    "    accuracy_bias=cv_results_accuracy.mean()\n",
    "    accuracy_variance=cv_results_accuracy.std()\n",
    "    f1_bias=cv_results_f1.mean()\n",
    "    f1_variance=cv_results_f1.std()\n",
    "    auc_bias=cv_results_auc.mean()\n",
    "    auc_variance=cv_results_auc.std()\n",
    "    \n",
    "    names.append(name)\n",
    "        \n",
    "    summary_m = \"[%s] model bias  (f1-score) %0.5f (variance %0.5f) | (AUC-score) %0.5f (variance %0.5f) | (Accuracy-score) %0.5f (variance %0.5f)\"% (name,cv_results_f1.mean(), cv_results_f1.std(), \n",
    "                                                                                                            cv_results_auc.mean(), cv_results_auc.std() , accuracy_bias , accuracy_variance)\n",
    "    summary.append(summary_m )  \n",
    "                                                                                                           \n",
    "    data = data.append(pd.DataFrame({'model': name, 'Hyperparameters': model_hyper, 'f1_score': [cv_results_f1], \n",
    "                                     'model_bias_f1-score': f1_bias,'model_bias_f1_variance': f1_variance,\n",
    "                                     'AUC_score': [cv_results_auc],'model_bias_AUC_score': auc_bias,'model_bias_AUC_variance': auc_variance ,\n",
    "                     'accuracy_score': [cv_results_accuracy], 'model_bias_accuracy_score': accuracy_bias,'model bias_accuracy_variance': accuracy_variance,\n",
    "                                  \"summary\":summary_m ,\"features_used\" :best_features }  ), ignore_index=True)\n",
    "\n",
    "    \n",
    "\n",
    "   "
   ]
  },
  {
   "cell_type": "code",
   "execution_count": 27,
   "metadata": {},
   "outputs": [
    {
     "data": {
      "text/plain": [
       "\"LogisticRegression(C=1.0,class_weight=None,dual=False,fit_intercept=True,intercept_scaling=1,l1_ratio=None,max_iter=2000,multi_class='auto',n_jobs=None,penalty='l2',random_state=123,solver='lbfgs',tol=0.0001,verbose=0,warm_start=False)\""
      ]
     },
     "execution_count": 27,
     "metadata": {},
     "output_type": "execute_result"
    }
   ],
   "source": [
    "#save to csv\n",
    "#data.to_csv(\"eval_all.csv\")\n",
    "data.Hyperparameters[0]"
   ]
  },
  {
   "cell_type": "code",
   "execution_count": 7,
   "metadata": {},
   "outputs": [
    {
     "data": {
      "text/html": [
       "<div>\n",
       "<style scoped>\n",
       "    .dataframe tbody tr th:only-of-type {\n",
       "        vertical-align: middle;\n",
       "    }\n",
       "\n",
       "    .dataframe tbody tr th {\n",
       "        vertical-align: top;\n",
       "    }\n",
       "\n",
       "    .dataframe thead th {\n",
       "        text-align: right;\n",
       "    }\n",
       "</style>\n",
       "<table border=\"1\" class=\"dataframe\">\n",
       "  <thead>\n",
       "    <tr style=\"text-align: right;\">\n",
       "      <th></th>\n",
       "      <th>Unnamed: 0</th>\n",
       "      <th>model</th>\n",
       "      <th>Hyperparameters</th>\n",
       "      <th>f1_score</th>\n",
       "      <th>model_bias_f1-score</th>\n",
       "      <th>model_bias_f1_variance</th>\n",
       "      <th>AUC_score</th>\n",
       "      <th>model_bias_AUC_score</th>\n",
       "      <th>model_bias_AUC_variance</th>\n",
       "      <th>accuracy_score</th>\n",
       "      <th>model_bias_accuracy_score</th>\n",
       "      <th>model bias_accuracy_variance</th>\n",
       "      <th>summary</th>\n",
       "      <th>features_used</th>\n",
       "    </tr>\n",
       "  </thead>\n",
       "  <tbody>\n",
       "    <tr>\n",
       "      <th>0</th>\n",
       "      <td>0</td>\n",
       "      <td>LogisticRegression</td>\n",
       "      <td>LogisticRegressi...</td>\n",
       "      <td>[0.84230769 0.82...</td>\n",
       "      <td>0.838322</td>\n",
       "      <td>0.008133</td>\n",
       "      <td>[0.84347798 0.82...</td>\n",
       "      <td>0.841627</td>\n",
       "      <td>0.007269</td>\n",
       "      <td>[0.84268585 0.82...</td>\n",
       "      <td>0.841638</td>\n",
       "      <td>0.007240</td>\n",
       "      <td>[LogisticRegress...</td>\n",
       "      <td>['average_Bounce...</td>\n",
       "    </tr>\n",
       "    <tr>\n",
       "      <th>1</th>\n",
       "      <td>1</td>\n",
       "      <td>NaiveBayes</td>\n",
       "      <td>BernoulliNB(alph...</td>\n",
       "      <td>[0.84107579 0.82...</td>\n",
       "      <td>0.839200</td>\n",
       "      <td>0.008637</td>\n",
       "      <td>[0.8454096  0.83...</td>\n",
       "      <td>0.843801</td>\n",
       "      <td>0.007365</td>\n",
       "      <td>[0.8441247  0.83...</td>\n",
       "      <td>0.843773</td>\n",
       "      <td>0.007332</td>\n",
       "      <td>[NaiveBayes] mod...</td>\n",
       "      <td>['average_Bounce...</td>\n",
       "    </tr>\n",
       "    <tr>\n",
       "      <th>2</th>\n",
       "      <td>2</td>\n",
       "      <td>GradientBoosting...</td>\n",
       "      <td>GradientBoosting...</td>\n",
       "      <td>[0.91304348 0.89...</td>\n",
       "      <td>0.906442</td>\n",
       "      <td>0.005838</td>\n",
       "      <td>[0.90953019 0.89...</td>\n",
       "      <td>0.905228</td>\n",
       "      <td>0.005487</td>\n",
       "      <td>[0.90983213 0.89...</td>\n",
       "      <td>0.905239</td>\n",
       "      <td>0.005522</td>\n",
       "      <td>[GradientBoostin...</td>\n",
       "      <td>['Browser_dummie...</td>\n",
       "    </tr>\n",
       "    <tr>\n",
       "      <th>3</th>\n",
       "      <td>3</td>\n",
       "      <td>RandomForestClas...</td>\n",
       "      <td>BalancedRandomFo...</td>\n",
       "      <td>[0.87860179 0.86...</td>\n",
       "      <td>0.874022</td>\n",
       "      <td>0.007539</td>\n",
       "      <td>[0.87704029 0.86...</td>\n",
       "      <td>0.874968</td>\n",
       "      <td>0.006775</td>\n",
       "      <td>[0.87673861 0.86...</td>\n",
       "      <td>0.875000</td>\n",
       "      <td>0.006762</td>\n",
       "      <td>[RandomForestCla...</td>\n",
       "      <td>['Region_dummies...</td>\n",
       "    </tr>\n",
       "    <tr>\n",
       "      <th>4</th>\n",
       "      <td>4</td>\n",
       "      <td>DecisionTreeClas...</td>\n",
       "      <td>DecisionTreeClas...</td>\n",
       "      <td>[0.84453163 0.82...</td>\n",
       "      <td>0.839630</td>\n",
       "      <td>0.008617</td>\n",
       "      <td>[0.84933409 0.83...</td>\n",
       "      <td>0.846642</td>\n",
       "      <td>0.007401</td>\n",
       "      <td>[0.84796163 0.83...</td>\n",
       "      <td>0.846670</td>\n",
       "      <td>0.007374</td>\n",
       "      <td>[DecisionTreeCla...</td>\n",
       "      <td>['average_Bounce...</td>\n",
       "    </tr>\n",
       "    <tr>\n",
       "      <th>5</th>\n",
       "      <td>5</td>\n",
       "      <td>VotingClassifier</td>\n",
       "      <td>VotingClassifier...</td>\n",
       "      <td>[0.85728108 0.83...</td>\n",
       "      <td>0.852579</td>\n",
       "      <td>0.007989</td>\n",
       "      <td>[0.85950145 0.84...</td>\n",
       "      <td>0.856910</td>\n",
       "      <td>0.007067</td>\n",
       "      <td>[0.85851319 0.84...</td>\n",
       "      <td>0.856937</td>\n",
       "      <td>0.007067</td>\n",
       "      <td>[VotingClassifie...</td>\n",
       "      <td>['Weekend_binary...</td>\n",
       "    </tr>\n",
       "    <tr>\n",
       "      <th>6</th>\n",
       "      <td>6</td>\n",
       "      <td>SVM</td>\n",
       "      <td>SVC(C=1,break_ti...</td>\n",
       "      <td>[0.84472656 0.82...</td>\n",
       "      <td>0.841585</td>\n",
       "      <td>0.008512</td>\n",
       "      <td>[0.84872766 0.83...</td>\n",
       "      <td>0.847601</td>\n",
       "      <td>0.007400</td>\n",
       "      <td>[0.84748201 0.83...</td>\n",
       "      <td>0.847620</td>\n",
       "      <td>0.007405</td>\n",
       "      <td>[SVM] model bias...</td>\n",
       "      <td>['Region_dummies...</td>\n",
       "    </tr>\n",
       "  </tbody>\n",
       "</table>\n",
       "</div>"
      ],
      "text/plain": [
       "   Unnamed: 0                model      Hyperparameters             f1_score  model_bias_f1-score  model_bias_f1_variance            AUC_score  model_bias_AUC_score  model_bias_AUC_variance  \\\n",
       "0           0   LogisticRegression  LogisticRegressi...  [0.84230769 0.82...             0.838322             0.008133     [0.84347798 0.82...             0.841627              0.007269       \n",
       "1           1           NaiveBayes  BernoulliNB(alph...  [0.84107579 0.82...             0.839200             0.008637     [0.8454096  0.83...             0.843801              0.007365       \n",
       "2           2  GradientBoosting...  GradientBoosting...  [0.91304348 0.89...             0.906442             0.005838     [0.90953019 0.89...             0.905228              0.005487       \n",
       "3           3  RandomForestClas...  BalancedRandomFo...  [0.87860179 0.86...             0.874022             0.007539     [0.87704029 0.86...             0.874968              0.006775       \n",
       "4           4  DecisionTreeClas...  DecisionTreeClas...  [0.84453163 0.82...             0.839630             0.008617     [0.84933409 0.83...             0.846642              0.007401       \n",
       "5           5     VotingClassifier  VotingClassifier...  [0.85728108 0.83...             0.852579             0.007989     [0.85950145 0.84...             0.856910              0.007067       \n",
       "6           6                  SVM  SVC(C=1,break_ti...  [0.84472656 0.82...             0.841585             0.008512     [0.84872766 0.83...             0.847601              0.007400       \n",
       "\n",
       "        accuracy_score  model_bias_accuracy_score  model bias_accuracy_variance              summary        features_used  \n",
       "0  [0.84268585 0.82...             0.841638                   0.007240           [LogisticRegress...  ['average_Bounce...  \n",
       "1  [0.8441247  0.83...             0.843773                   0.007332           [NaiveBayes] mod...  ['average_Bounce...  \n",
       "2  [0.90983213 0.89...             0.905239                   0.005522           [GradientBoostin...  ['Browser_dummie...  \n",
       "3  [0.87673861 0.86...             0.875000                   0.006762           [RandomForestCla...  ['Region_dummies...  \n",
       "4  [0.84796163 0.83...             0.846670                   0.007374           [DecisionTreeCla...  ['average_Bounce...  \n",
       "5  [0.85851319 0.84...             0.856937                   0.007067           [VotingClassifie...  ['Weekend_binary...  \n",
       "6  [0.84748201 0.83...             0.847620                   0.007405           [SVM] model bias...  ['Region_dummies...  "
      ]
     },
     "execution_count": 7,
     "metadata": {},
     "output_type": "execute_result"
    }
   ],
   "source": [
    "df"
   ]
  },
  {
   "cell_type": "code",
   "execution_count": 20,
   "metadata": {},
   "outputs": [
    {
     "data": {
      "text/markdown": [
       " __[LogisticRegression] model bias  (f1-score) 0.83832 (variance 0.00813) | (AUC-score) 0.84163 (variance 0.00727) | (Accuracy-score) 0.84164 (variance 0.00724)__ <br>"
      ],
      "text/plain": [
       "<IPython.core.display.Markdown object>"
      ]
     },
     "metadata": {},
     "output_type": "display_data"
    },
    {
     "data": {
      "text/markdown": [
       " ---"
      ],
      "text/plain": [
       "<IPython.core.display.Markdown object>"
      ]
     },
     "metadata": {},
     "output_type": "display_data"
    },
    {
     "data": {
      "text/markdown": [
       " __[NaiveBayes] model bias  (f1-score) 0.83920 (variance 0.00864) | (AUC-score) 0.84380 (variance 0.00736) | (Accuracy-score) 0.84377 (variance 0.00733)__ <br>"
      ],
      "text/plain": [
       "<IPython.core.display.Markdown object>"
      ]
     },
     "metadata": {},
     "output_type": "display_data"
    },
    {
     "data": {
      "text/markdown": [
       " ---"
      ],
      "text/plain": [
       "<IPython.core.display.Markdown object>"
      ]
     },
     "metadata": {},
     "output_type": "display_data"
    },
    {
     "data": {
      "text/markdown": [
       " __[GradientBoostingClassifier] model bias  (f1-score) 0.90644 (variance 0.00584) | (AUC-score) 0.90523 (variance 0.00549) | (Accuracy-score) 0.90524 (variance 0.00552)__ <br>"
      ],
      "text/plain": [
       "<IPython.core.display.Markdown object>"
      ]
     },
     "metadata": {},
     "output_type": "display_data"
    },
    {
     "data": {
      "text/markdown": [
       " ---"
      ],
      "text/plain": [
       "<IPython.core.display.Markdown object>"
      ]
     },
     "metadata": {},
     "output_type": "display_data"
    },
    {
     "data": {
      "text/markdown": [
       " __[RandomForestClassifier] model bias  (f1-score) 0.87402 (variance 0.00754) | (AUC-score) 0.87497 (variance 0.00677) | (Accuracy-score) 0.87500 (variance 0.00676)__ <br>"
      ],
      "text/plain": [
       "<IPython.core.display.Markdown object>"
      ]
     },
     "metadata": {},
     "output_type": "display_data"
    },
    {
     "data": {
      "text/markdown": [
       " ---"
      ],
      "text/plain": [
       "<IPython.core.display.Markdown object>"
      ]
     },
     "metadata": {},
     "output_type": "display_data"
    },
    {
     "data": {
      "text/markdown": [
       " __[DecisionTreeClassifier] model bias  (f1-score) 0.83963 (variance 0.00862) | (AUC-score) 0.84664 (variance 0.00740) | (Accuracy-score) 0.84667 (variance 0.00737)__ <br>"
      ],
      "text/plain": [
       "<IPython.core.display.Markdown object>"
      ]
     },
     "metadata": {},
     "output_type": "display_data"
    },
    {
     "data": {
      "text/markdown": [
       " ---"
      ],
      "text/plain": [
       "<IPython.core.display.Markdown object>"
      ]
     },
     "metadata": {},
     "output_type": "display_data"
    },
    {
     "data": {
      "text/markdown": [
       " __[VotingClassifier] model bias  (f1-score) 0.85258 (variance 0.00799) | (AUC-score) 0.85691 (variance 0.00707) | (Accuracy-score) 0.85694 (variance 0.00707)__ <br>"
      ],
      "text/plain": [
       "<IPython.core.display.Markdown object>"
      ]
     },
     "metadata": {},
     "output_type": "display_data"
    },
    {
     "data": {
      "text/markdown": [
       " ---"
      ],
      "text/plain": [
       "<IPython.core.display.Markdown object>"
      ]
     },
     "metadata": {},
     "output_type": "display_data"
    },
    {
     "data": {
      "text/markdown": [
       " __[SVM] model bias  (f1-score) 0.84159 (variance 0.00851) | (AUC-score) 0.84760 (variance 0.00740) | (Accuracy-score) 0.84762 (variance 0.00740)__ <br>"
      ],
      "text/plain": [
       "<IPython.core.display.Markdown object>"
      ]
     },
     "metadata": {},
     "output_type": "display_data"
    },
    {
     "data": {
      "text/markdown": [
       " ---"
      ],
      "text/plain": [
       "<IPython.core.display.Markdown object>"
      ]
     },
     "metadata": {},
     "output_type": "display_data"
    }
   ],
   "source": [
    "df= pd.read_csv('eval_all.csv')\n",
    "for i in df.summary:\n",
    "    display(Markdown( \" __{}__ <br>\".format(i)) )\n",
    "    display(Markdown( \" ---\")) "
   ]
  },
  {
   "cell_type": "code",
   "execution_count": 10,
   "metadata": {},
   "outputs": [],
   "source": [
    "\n",
    "\n",
    "#https://stackoverflow.com/questions/35133317/numpy-save-some-arrays-at-once\n",
    "try:\n",
    "    import cPickle as pickle\n",
    "except:\n",
    "    import pickle\n",
    "import numpy as np\n",
    "\n",
    "#save the arrays to pickle\n",
    "\n",
    "with open('AlgorithmComparison_accuracy_all.pkl', 'wb') as outfile:\n",
    "    pickle.dump(results_accuracy, outfile, pickle.HIGHEST_PROTOCOL)\n",
    "with open('AlgorithmComparison_F1_all.pkl', 'wb') as outfile:\n",
    "    pickle.dump(results_f1, outfile, pickle.HIGHEST_PROTOCOL)\n",
    "with open('AlgorithmComparison_AUC_all.pkl', 'wb') as outfile:\n",
    "    pickle.dump(results_auc, outfile, pickle.HIGHEST_PROTOCOL)\n",
    "\n",
    "with open('AlgorithmComparison_accuracy_all.pkl', 'rb') as infile:\n",
    "    result_accuracy_pickle = pickle.load(infile)"
   ]
  },
  {
   "cell_type": "code",
   "execution_count": 8,
   "metadata": {},
   "outputs": [],
   "source": [
    "\n",
    "\n",
    "\n",
    "\n",
    "try:\n",
    "    import cPickle as pickle\n",
    "except:\n",
    "    import pickle\n",
    "import numpy as np\n",
    "\n",
    "with open('AlgorithmComparison_accuracy_all.pkl', 'rb') as infile:\n",
    "    result_accuracy_pickle = pickle.load(infile)\n",
    "with open('AlgorithmComparison_F1_all.pkl', 'rb') as infile:\n",
    "    result_f1_pickle = pickle.load(infile)\n",
    "\n",
    "with open('AlgorithmComparison_AUC_all.pkl', 'rb') as infile:\n",
    "    result_auc_pickle = pickle.load(infile)"
   ]
  },
  {
   "cell_type": "code",
   "execution_count": 22,
   "metadata": {},
   "outputs": [
    {
     "data": {
      "image/png": "[encoded data removed]",
      "text/plain": [
       "<Figure size 1080x720 with 1 Axes>"
      ]
     },
     "metadata": {},
     "output_type": "display_data"
    }
   ],
   "source": [
    "# boxplot algorithm comparison\n",
    "fig = plt.figure(figsize = (15,10))\n",
    "fig.suptitle('Algorithm Comparison F1')\n",
    "ax = fig.add_subplot(111)\n",
    "plt.boxplot( result_f1_pickle)\n",
    "ax.set_xticklabels(df.model)\n",
    "plt.show()\n",
    "from matplotlib import pyplot as plt\n",
    "\n",
    "#plt.savefig('AlgorithmComparison_F1',dpi=(250), bbox_inches='tight')\n",
    "  # save the figure to file\n",
    "#plt.close(fig) \n"
   ]
  },
  {
   "cell_type": "code",
   "execution_count": 15,
   "metadata": {},
   "outputs": [
    {
     "data": {
      "image/png": "[encoded data removed]",
      "text/plain": [
       "<Figure size 1080x720 with 1 Axes>"
      ]
     },
     "metadata": {},
     "output_type": "display_data"
    }
   ],
   "source": [
    "# boxplot algorithm comparison\n",
    "fig = plt.figure(figsize = (15,10))\n",
    "fig.suptitle('Algorithm Comparison AUC')\n",
    "ax = fig.add_subplot(111)\n",
    "plt.boxplot(result_auc_pickle )\n",
    "ax.set_xticklabels(df.model)\n",
    "# save the figure to file\n",
    "#plt.savefig('AlgorithmComparison_AUC',dpi=(250), bbox_inches='tight')\n",
    "\n",
    "#plt.close(fig) \n",
    "plt.show()"
   ]
  },
  {
   "cell_type": "code",
   "execution_count": 16,
   "metadata": {},
   "outputs": [
    {
     "data": {
      "image/png": "[encoded data removed]",
      "text/plain": [
       "<Figure size 1080x720 with 1 Axes>"
      ]
     },
     "metadata": {},
     "output_type": "display_data"
    }
   ],
   "source": [
    "\n",
    "# boxplot algorithm comparison\n",
    "fig = plt.figure(figsize = (15,10))\n",
    "fig.suptitle('Algorithm Comparison Accuracy')\n",
    "ax = fig.add_subplot(111)\n",
    "plt.boxplot(result_accuracy_pickle )\n",
    "ax.set_xticklabels(df.model)\n",
    "# save the figure to file\n",
    "\n",
    "#plt.savefig('AlgorithmComparison_accuracy',dpi=(250), bbox_inches='tight')\n",
    "#plt.close(fig) \n",
    "plt.show()"
   ]
  },
  {
   "cell_type": "code",
   "execution_count": null,
   "metadata": {},
   "outputs": [],
   "source": []
  }
 ],
 "metadata": {
  "kernelspec": {
   "display_name": "Python 3",
   "language": "python",
   "name": "python3"
  },
  "language_info": {
   "codemirror_mode": {
    "name": "ipython",
    "version": 3
   },
   "file_extension": ".py",
   "mimetype": "text/x-python",
   "name": "python",
   "nbconvert_exporter": "python",
   "pygments_lexer": "ipython3",
   "version": "3.6.7"
  }
 },
 "nbformat": 4,
 "nbformat_minor": 4
}
